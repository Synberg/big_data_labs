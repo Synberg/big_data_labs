{
  "nbformat": 4,
  "nbformat_minor": 0,
  "metadata": {
    "colab": {
      "provenance": []
    },
    "kernelspec": {
      "name": "python3",
      "display_name": "Python 3"
    },
    "language_info": {
      "name": "python"
    }
  },
  "cells": [
    {
      "cell_type": "markdown",
      "source": [
        "Импортируем библиотеки, настраиваем pyspark и читаем данные из файлов"
      ],
      "metadata": {
        "id": "nKlM-6Cog6rX"
      }
    },
    {
      "cell_type": "code",
      "source": [
        "from pyspark.sql import SparkSession\n",
        "from pyspark.sql.functions import col, unix_timestamp, sum as spark_sum, countDistinct, max as spark_max\n",
        "from pyspark.sql.functions import radians, cos, sin, sqrt, atan2\n",
        "from geopy.distance import geodesic\n",
        "\n",
        "# Создание сессии Spark\n",
        "spark = SparkSession.builder \\\n",
        "    .appName(\"BikeAnalysis\") \\\n",
        "    .config(\"spark.sql.legacy.timeParserPolicy\", \"LEGACY\") \\\n",
        "    .getOrCreate()\n",
        "\n",
        "# Читаем CSV-файлы\n",
        "trips_df = spark.read.option(\"header\", \"true\").csv(\"trips.csv\")\n",
        "stations_df = spark.read.option(\"header\", \"true\").csv(\"stations.csv\")\n",
        "\n",
        "# Приводим нужные колонки к числовому типу (иначе они строки)\n",
        "stations_df = stations_df.withColumn(\"lat\", col(\"lat\").cast(\"double\")) \\\n",
        "                         .withColumn(\"long\", col(\"long\").cast(\"double\"))\n"
      ],
      "metadata": {
        "id": "nIqE4ZoIWV1x"
      },
      "execution_count": 45,
      "outputs": []
    },
    {
      "cell_type": "markdown",
      "source": [
        "# Задание 1\n",
        "Найти велосипед с максимальным временем пробега"
      ],
      "metadata": {
        "id": "739Bf67RhBrD"
      }
    },
    {
      "cell_type": "code",
      "source": [
        "# Преобразуем даты в метки времени и считаем длительность поездки в минутах\n",
        "trips_with_duration = trips_df.withColumn(\n",
        "    \"start_timestamp\", unix_timestamp(col(\"start_date\"), \"M/d/yyyy H:mm\")\n",
        ").withColumn(\n",
        "    \"end_timestamp\", unix_timestamp(col(\"end_date\"), \"M/d/yyyy H:mm\")\n",
        ").withColumn(\n",
        "    \"duration_minutes\", (col(\"end_timestamp\") - col(\"start_timestamp\")) / 60\n",
        ")\n",
        "\n",
        "# Группируем по bike_id и находим велосипед с максимальным временем пробега\n",
        "bike_max = trips_with_duration.groupBy(\"bike_id\").agg(\n",
        "    spark_sum(\"duration_minutes\").alias(\"total_minutes\")\n",
        ").orderBy(col(\"total_minutes\").desc()).limit(1)\n",
        "\n",
        "# Вывод результата\n",
        "bike_max.show()"
      ],
      "metadata": {
        "colab": {
          "base_uri": "https://localhost:8080/"
        },
        "id": "X9JOTLFnWjWx",
        "outputId": "4f4d4346-703a-4a11-c68b-17d0ab5f4590"
      },
      "execution_count": 47,
      "outputs": [
        {
          "output_type": "stream",
          "name": "stdout",
          "text": [
            "+-------+-------------+\n",
            "|bike_id|total_minutes|\n",
            "+-------+-------------+\n",
            "|    535|     310262.0|\n",
            "+-------+-------------+\n",
            "\n"
          ]
        }
      ]
    },
    {
      "cell_type": "markdown",
      "source": [
        "# Задание 2\n",
        "Найти наибольшее геодезическое расстояние между станциями"
      ],
      "metadata": {
        "id": "sI7DcjyghGke"
      }
    },
    {
      "cell_type": "code",
      "source": [
        "# Применяем геодезическое расстояние (формула Хаверсина)\n",
        "stations_list = stations_df.select(\"id\", \"lat\", \"long\").collect()\n",
        "max_distance = 0\n",
        "station_pair = None\n",
        "\n",
        "for i in range(len(stations_list)):\n",
        "    for j in range(i + 1, len(stations_list)):\n",
        "        s1, s2 = stations_list[i], stations_list[j]\n",
        "        dist = geodesic((s1[\"lat\"], s1[\"long\"]), (s2[\"lat\"], s2[\"long\"])).km\n",
        "        if dist > max_distance:\n",
        "            max_distance = dist\n",
        "            station_pair = (s1[\"id\"], s2[\"id\"])\n",
        "\n",
        "print(f\"Наибольшее расстояние: {max_distance:.2f} км между станциями {station_pair[0]} и {station_pair[1]}\")"
      ],
      "metadata": {
        "colab": {
          "base_uri": "https://localhost:8080/"
        },
        "id": "Yn6NJ12mYPOL",
        "outputId": "485e5584-45ec-47ba-cef5-aedca1bfd5e7"
      },
      "execution_count": 48,
      "outputs": [
        {
          "output_type": "stream",
          "name": "stdout",
          "text": [
            "Наибольшее расстояние: 69.92 км между станциями 16 и 60\n"
          ]
        }
      ]
    },
    {
      "cell_type": "markdown",
      "source": [
        "# Задание 3\n",
        "Найти путь велосипеда с максимальным временем пробега через станции"
      ],
      "metadata": {
        "id": "r73hPdAnhKfA"
      }
    },
    {
      "cell_type": "code",
      "source": [
        "# Получаем bike_id с максимальным пробегом\n",
        "bike_id_max = bike_max.collect()[0][\"bike_id\"]\n",
        "\n",
        "# Отбираем поездки для этого велосипеда и сортируем по start_date\n",
        "bike_trips = trips_with_duration.filter(col(\"bike_id\") == bike_id_max) \\\n",
        "    .select(\"start_date\", \"start_station_name\", \"end_date\", \"end_station_name\") \\\n",
        "    .orderBy(\"start_date\")\n",
        "\n",
        "# Выводим путь\n",
        "bike_trips.show(truncate=False)"
      ],
      "metadata": {
        "colab": {
          "base_uri": "https://localhost:8080/"
        },
        "id": "gwYVEhc3YQwt",
        "outputId": "d9bccf7d-0241-4266-e48f-9fad7c397d5b"
      },
      "execution_count": 49,
      "outputs": [
        {
          "output_type": "stream",
          "name": "stdout",
          "text": [
            "+---------------+---------------------------------------------+---------------+---------------------------------------------+\n",
            "|start_date     |start_station_name                           |end_date       |end_station_name                             |\n",
            "+---------------+---------------------------------------------+---------------+---------------------------------------------+\n",
            "|1/1/2014 13:42 |Mechanics Plaza (Market at Battery)          |1/1/2014 14:36 |Embarcadero at Sansome                       |\n",
            "|1/1/2014 18:51 |Embarcadero at Sansome                       |1/1/2014 19:13 |Market at 4th                                |\n",
            "|1/1/2014 19:48 |Market at 4th                                |1/1/2014 20:01 |South Van Ness at Market                     |\n",
            "|1/10/2014 20:13|Market at 10th                               |1/10/2014 20:17|Powell Street BART                           |\n",
            "|1/10/2014 8:09 |Embarcadero at Folsom                        |1/10/2014 8:19 |San Francisco Caltrain (Townsend at 4th)     |\n",
            "|1/10/2014 8:21 |San Francisco Caltrain (Townsend at 4th)     |1/10/2014 8:31 |Temporary Transbay Terminal (Howard at Beale)|\n",
            "|1/10/2014 9:19 |Temporary Transbay Terminal (Howard at Beale)|1/10/2014 9:32 |Market at 10th                               |\n",
            "|1/11/2014 19:06|Powell Street BART                           |1/11/2014 19:11|Market at 10th                               |\n",
            "|1/12/2014 12:21|Market at 10th                               |1/12/2014 12:29|Market at 4th                                |\n",
            "|1/12/2014 17:36|Market at 4th                                |1/12/2014 17:58|San Francisco Caltrain (Townsend at 4th)     |\n",
            "|1/13/2014 17:04|Davis at Jackson                             |1/13/2014 17:06|Beale at Market                              |\n",
            "|1/13/2014 18:09|Beale at Market                              |1/13/2014 18:13|Davis at Jackson                             |\n",
            "|1/13/2014 6:43 |San Francisco Caltrain (Townsend at 4th)     |1/13/2014 6:54 |Embarcadero at Vallejo                       |\n",
            "|1/13/2014 8:20 |San Francisco Caltrain (Townsend at 4th)     |1/13/2014 8:31 |Market at Sansome                            |\n",
            "|1/13/2014 8:52 |Market at Sansome                            |1/13/2014 8:56 |Davis at Jackson                             |\n",
            "|1/14/2014 11:52|Howard at 2nd                                |1/14/2014 11:55|2nd at South Park                            |\n",
            "|1/14/2014 13:12|2nd at South Park                            |1/14/2014 13:14|2nd at Folsom                                |\n",
            "|1/14/2014 13:20|2nd at Folsom                                |1/14/2014 14:02|2nd at South Park                            |\n",
            "|1/14/2014 16:22|2nd at South Park                            |1/14/2014 16:26|San Francisco Caltrain (Townsend at 4th)     |\n",
            "|1/14/2014 20:23|San Francisco Caltrain (Townsend at 4th)     |1/14/2014 20:29|Embarcadero at Bryant                        |\n",
            "+---------------+---------------------------------------------+---------------+---------------------------------------------+\n",
            "only showing top 20 rows\n",
            "\n"
          ]
        }
      ]
    },
    {
      "cell_type": "markdown",
      "source": [
        "# Задание 4\n",
        "Найти количество велосипедов в системе"
      ],
      "metadata": {
        "id": "ue2OycWahOyN"
      }
    },
    {
      "cell_type": "code",
      "source": [
        "# Используем countDistinct для подсчета уникальных bike_id\n",
        "bike_count = trips_df.select(countDistinct(\"bike_id\").alias(\"unique_bikes\"))\n",
        "\n",
        "# Вывод результата\n",
        "bike_count.show()"
      ],
      "metadata": {
        "colab": {
          "base_uri": "https://localhost:8080/"
        },
        "id": "JDuMXnbKYR-o",
        "outputId": "2cf4ee56-c08d-4782-e7af-b38c9462798e"
      },
      "execution_count": 50,
      "outputs": [
        {
          "output_type": "stream",
          "name": "stdout",
          "text": [
            "+------------+\n",
            "|unique_bikes|\n",
            "+------------+\n",
            "|         700|\n",
            "+------------+\n",
            "\n"
          ]
        }
      ]
    },
    {
      "cell_type": "markdown",
      "source": [
        "# Задание 5\n",
        "Найти пользователей потративших на поездки более 3 часов."
      ],
      "metadata": {
        "id": "LKL8WzAAhRyA"
      }
    },
    {
      "cell_type": "code",
      "source": [
        "# Фильтруем строки без zip_code\n",
        "filtered_users = trips_with_duration.filter(col(\"zip_code\").isNotNull())\n",
        "\n",
        "# Группируем данные по zip_code и считаем общее время поездок\n",
        "user_time = filtered_users.groupBy(\"zip_code\").agg(\n",
        "    spark_sum(\"duration_minutes\").alias(\"total_minutes\")\n",
        ")\n",
        "\n",
        "# Фильтруем пользователей, потративших более 180 минут (3 часа) на поездки\n",
        "active_users = user_time.filter(col(\"total_minutes\") > 180)\n",
        "\n",
        "# Вывод результата\n",
        "active_users.show()\n"
      ],
      "metadata": {
        "colab": {
          "base_uri": "https://localhost:8080/"
        },
        "id": "xZJdaL5IYUcH",
        "outputId": "a1b91c67-deab-48de-8800-a06a0ad61596"
      },
      "execution_count": 51,
      "outputs": [
        {
          "output_type": "stream",
          "name": "stdout",
          "text": [
            "+--------+-------------+\n",
            "|zip_code|total_minutes|\n",
            "+--------+-------------+\n",
            "|   94102|     318746.0|\n",
            "|   95134|      12114.0|\n",
            "|   84606|       1583.0|\n",
            "|   80305|       3010.0|\n",
            "|   60070|        483.0|\n",
            "|   95519|        505.0|\n",
            "|   43085|        194.0|\n",
            "|   91910|        840.0|\n",
            "|   77339|        230.0|\n",
            "|   48063|        228.0|\n",
            "|   85022|        209.0|\n",
            "|    1090|        340.0|\n",
            "|    2136|        266.0|\n",
            "|   11722|        405.0|\n",
            "|   95138|       2583.0|\n",
            "|   94610|      60490.0|\n",
            "|   94404|      59813.0|\n",
            "|   80301|       2537.0|\n",
            "|   91326|       1096.0|\n",
            "|   90742|        183.0|\n",
            "+--------+-------------+\n",
            "only showing top 20 rows\n",
            "\n"
          ]
        }
      ]
    }
  ]
}