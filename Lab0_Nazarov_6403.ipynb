{
  "nbformat": 4,
  "nbformat_minor": 0,
  "metadata": {
    "colab": {
      "provenance": [],
      "collapsed_sections": [
        "QtTFyqke3KGe",
        "kNKYIeerx0nY"
      ]
    },
    "kernelspec": {
      "name": "python3",
      "display_name": "Python 3"
    }
  },
  "cells": [
    {
      "cell_type": "markdown",
      "metadata": {
        "id": "82OvPKEiEqjc"
      },
      "source": [
        "# Введение в MapReduce модель на Python\n"
      ]
    },
    {
      "cell_type": "code",
      "metadata": {
        "id": "JQ2cvXLjICmI"
      },
      "source": [
        "from typing import NamedTuple # requires python 3.6+\n",
        "from typing import Iterator"
      ],
      "execution_count": 24,
      "outputs": []
    },
    {
      "cell_type": "code",
      "metadata": {
        "id": "yjPHumVwEyEg"
      },
      "source": [
        "def MAP(_, row:NamedTuple):\n",
        "  if (row.gender == 'female'):\n",
        "    yield (row.age, row)\n",
        "\n",
        "def REDUCE(age:str, rows:Iterator[NamedTuple]):\n",
        "  sum = 0\n",
        "  count = 0\n",
        "  for row in rows:\n",
        "    sum += row.social_contacts\n",
        "    count += 1\n",
        "  if (count > 0):\n",
        "    yield (age, sum/count)\n",
        "  else:\n",
        "    yield (age, 0)"
      ],
      "execution_count": 25,
      "outputs": []
    },
    {
      "cell_type": "markdown",
      "metadata": {
        "id": "vBKMgpG_ilaZ"
      },
      "source": [
        "Модель элемента данных"
      ]
    },
    {
      "cell_type": "code",
      "metadata": {
        "id": "Rv-XIjhTJPx3"
      },
      "source": [
        "class User(NamedTuple):\n",
        "  id: int\n",
        "  age: str\n",
        "  social_contacts: int\n",
        "  gender: str"
      ],
      "execution_count": 26,
      "outputs": []
    },
    {
      "cell_type": "code",
      "metadata": {
        "id": "5KV0Ze2vQgu5"
      },
      "source": [
        "input_collection = [\n",
        "    User(id=0, age=55, gender='male', social_contacts=20),\n",
        "    User(id=1, age=25, gender='female', social_contacts=240),\n",
        "    User(id=2, age=25, gender='female', social_contacts=500),\n",
        "    User(id=3, age=33, gender='female', social_contacts=800)\n",
        "]"
      ],
      "execution_count": 27,
      "outputs": []
    },
    {
      "cell_type": "markdown",
      "metadata": {
        "id": "YFeqzyZxZIFZ"
      },
      "source": [
        "Функция RECORDREADER моделирует чтение элементов с диска или по сети."
      ]
    },
    {
      "cell_type": "code",
      "metadata": {
        "id": "S5HR4E_GQoMJ"
      },
      "source": [
        "def RECORDREADER():\n",
        "  return [(u.id, u) for u in input_collection]"
      ],
      "execution_count": 28,
      "outputs": []
    },
    {
      "cell_type": "code",
      "metadata": {
        "id": "NeEoWla-ROUy",
        "colab": {
          "base_uri": "https://localhost:8080/"
        },
        "outputId": "0be54084-10d2-4213-cf75-01bae71ce628"
      },
      "source": [
        "list(RECORDREADER())"
      ],
      "execution_count": 29,
      "outputs": [
        {
          "output_type": "execute_result",
          "data": {
            "text/plain": [
              "[(0, User(id=0, age=55, social_contacts=20, gender='male')),\n",
              " (1, User(id=1, age=25, social_contacts=240, gender='female')),\n",
              " (2, User(id=2, age=25, social_contacts=500, gender='female')),\n",
              " (3, User(id=3, age=33, social_contacts=800, gender='female'))]"
            ]
          },
          "metadata": {},
          "execution_count": 29
        }
      ]
    },
    {
      "cell_type": "code",
      "metadata": {
        "id": "YB8orgPSZs8M"
      },
      "source": [
        "def flatten(nested_iterable):\n",
        "  for iterable in nested_iterable:\n",
        "    for element in iterable:\n",
        "      yield element"
      ],
      "execution_count": 30,
      "outputs": []
    },
    {
      "cell_type": "code",
      "metadata": {
        "id": "74oyvDLaRmd5",
        "colab": {
          "base_uri": "https://localhost:8080/"
        },
        "outputId": "1b4d6b05-27ee-4790-a2b0-f55546e1cf56"
      },
      "source": [
        "map_output = flatten(map(lambda x: MAP(*x), RECORDREADER()))\n",
        "map_output = list(map_output) # materialize\n",
        "map_output"
      ],
      "execution_count": 31,
      "outputs": [
        {
          "output_type": "execute_result",
          "data": {
            "text/plain": [
              "[(25, User(id=1, age=25, social_contacts=240, gender='female')),\n",
              " (25, User(id=2, age=25, social_contacts=500, gender='female')),\n",
              " (33, User(id=3, age=33, social_contacts=800, gender='female'))]"
            ]
          },
          "metadata": {},
          "execution_count": 31
        }
      ]
    },
    {
      "cell_type": "code",
      "metadata": {
        "id": "8ncYDJ3-VzDn"
      },
      "source": [
        "def groupbykey(iterable):\n",
        "  t = {}\n",
        "  for (k2, v2) in iterable:\n",
        "    t[k2] = t.get(k2, []) + [v2]\n",
        "  return t.items()"
      ],
      "execution_count": 32,
      "outputs": []
    },
    {
      "cell_type": "code",
      "metadata": {
        "id": "cKzY_6COWOA2",
        "colab": {
          "base_uri": "https://localhost:8080/"
        },
        "outputId": "e82b4250-be16-4b08-cb33-62894ead4343"
      },
      "source": [
        "shuffle_output = groupbykey(map_output)\n",
        "shuffle_output = list(shuffle_output)\n",
        "shuffle_output"
      ],
      "execution_count": 33,
      "outputs": [
        {
          "output_type": "execute_result",
          "data": {
            "text/plain": [
              "[(25,\n",
              "  [User(id=1, age=25, social_contacts=240, gender='female'),\n",
              "   User(id=2, age=25, social_contacts=500, gender='female')]),\n",
              " (33, [User(id=3, age=33, social_contacts=800, gender='female')])]"
            ]
          },
          "metadata": {},
          "execution_count": 33
        }
      ]
    },
    {
      "cell_type": "code",
      "metadata": {
        "id": "NlA7lkDDYL0t",
        "colab": {
          "base_uri": "https://localhost:8080/"
        },
        "outputId": "193f4b71-7d82-4317-ab8c-0329caca9c7e"
      },
      "source": [
        "reduce_output = flatten(map(lambda x: REDUCE(*x), shuffle_output))\n",
        "reduce_output = list(reduce_output)\n",
        "reduce_output"
      ],
      "execution_count": 34,
      "outputs": [
        {
          "output_type": "execute_result",
          "data": {
            "text/plain": [
              "[(25, 370.0), (33, 800.0)]"
            ]
          },
          "metadata": {},
          "execution_count": 34
        }
      ]
    },
    {
      "cell_type": "markdown",
      "metadata": {
        "id": "xf6qhHEtd6bI"
      },
      "source": [
        "Все действия одним конвейером!"
      ]
    },
    {
      "cell_type": "code",
      "metadata": {
        "id": "dZaQGYxCdpw5",
        "colab": {
          "base_uri": "https://localhost:8080/"
        },
        "outputId": "c4e0022f-5888-4e6e-fa7a-76a16566149e"
      },
      "source": [
        "list(flatten(map(lambda x: REDUCE(*x), groupbykey(flatten(map(lambda x: MAP(*x), RECORDREADER()))))))"
      ],
      "execution_count": 35,
      "outputs": [
        {
          "output_type": "execute_result",
          "data": {
            "text/plain": [
              "[(25, 370.0), (33, 800.0)]"
            ]
          },
          "metadata": {},
          "execution_count": 35
        }
      ]
    },
    {
      "cell_type": "markdown",
      "metadata": {
        "id": "Vq3EWRIpwSiJ"
      },
      "source": [
        "# **MapReduce**\n",
        "Выделим общую для всех пользователей часть системы в отдельную функцию высшего порядка. Это наиболее простая модель MapReduce, без учёта распределённого хранения данных.\n",
        "\n",
        "Пользователь для решения своей задачи реализует RECORDREADER, MAP, REDUCE."
      ]
    },
    {
      "cell_type": "code",
      "metadata": {
        "id": "V1PZeQMwwVjc"
      },
      "source": [
        "def flatten(nested_iterable):\n",
        "  for iterable in nested_iterable:\n",
        "    for element in iterable:\n",
        "      yield element\n",
        "\n",
        "def groupbykey(iterable):\n",
        "  t = {}\n",
        "  for (k2, v2) in iterable:\n",
        "    t[k2] = t.get(k2, []) + [v2]\n",
        "  return t.items()\n",
        "\n",
        "def MapReduce(RECORDREADER, MAP, REDUCE):\n",
        "  return flatten(map(lambda x: REDUCE(*x), groupbykey(flatten(map(lambda x: MAP(*x), RECORDREADER())))))"
      ],
      "execution_count": 36,
      "outputs": []
    },
    {
      "cell_type": "markdown",
      "metadata": {
        "id": "iFIVrimep678"
      },
      "source": [
        "## Спецификация MapReduce\n",
        "\n",
        "\n",
        "\n",
        "```\n",
        "f (k1, v1) -> (k2,v2)*\n",
        "g (k2, v2*) -> (k3,v3)*\n",
        "\n",
        "mapreduce ((k1,v1)*) -> (k3,v3)*\n",
        "groupby ((k2,v2)*) -> (k2,v2*)*\n",
        "flatten (e2**) -> e2*\n",
        "\n",
        "mapreduce .map(f).flatten.groupby(k2).map(g).flatten\n",
        "```\n",
        "\n",
        "\n"
      ]
    },
    {
      "cell_type": "markdown",
      "metadata": {
        "id": "QtTFyqke3KGe"
      },
      "source": [
        "# Примеры"
      ]
    },
    {
      "cell_type": "markdown",
      "metadata": {
        "id": "BNhh5763w5Vn"
      },
      "source": [
        "## SQL"
      ]
    },
    {
      "cell_type": "code",
      "metadata": {
        "id": "QkyurnvGxBGk",
        "colab": {
          "base_uri": "https://localhost:8080/"
        },
        "outputId": "a9a2cf55-7743-4f8f-9097-03e90a66ba0c"
      },
      "source": [
        "from typing import NamedTuple # requires python 3.6+\n",
        "from typing import Iterator\n",
        "\n",
        "class User(NamedTuple):\n",
        "  id: int\n",
        "  age: str\n",
        "  social_contacts: int\n",
        "  gender: str\n",
        "\n",
        "input_collection = [\n",
        "    User(id=0, age=55, gender='male', social_contacts=20),\n",
        "    User(id=1, age=25, gender='female', social_contacts=240),\n",
        "    User(id=2, age=25, gender='female', social_contacts=500),\n",
        "    User(id=3, age=33, gender='female', social_contacts=800)\n",
        "]\n",
        "\n",
        "def MAP(_, row:NamedTuple):\n",
        "  if (row.gender == 'female'):\n",
        "    yield (row.age, row)\n",
        "\n",
        "def REDUCE(age:str, rows:Iterator[NamedTuple]):\n",
        "  sum = 0\n",
        "  count = 0\n",
        "  for row in rows:\n",
        "    sum += row.social_contacts\n",
        "    count += 1\n",
        "  if (count > 0):\n",
        "    yield (age, sum/count)\n",
        "  else:\n",
        "    yield (age, 0)\n",
        "\n",
        "def RECORDREADER():\n",
        "  return [(u.id, u) for u in input_collection]\n",
        "\n",
        "output = MapReduce(RECORDREADER, MAP, REDUCE)\n",
        "output = list(output)\n",
        "output"
      ],
      "execution_count": 37,
      "outputs": [
        {
          "output_type": "execute_result",
          "data": {
            "text/plain": [
              "[(25, 370.0), (33, 800.0)]"
            ]
          },
          "metadata": {},
          "execution_count": 37
        }
      ]
    },
    {
      "cell_type": "markdown",
      "metadata": {
        "id": "kNKYIeerx0nY"
      },
      "source": [
        "## Matrix-Vector multiplication"
      ]
    },
    {
      "cell_type": "code",
      "metadata": {
        "id": "rwcntRcCyi1V",
        "colab": {
          "base_uri": "https://localhost:8080/"
        },
        "outputId": "bc1cfacb-2ddc-4c35-a9d5-c20bd2a55598"
      },
      "source": [
        "from typing import Iterator\n",
        "import numpy as np\n",
        "\n",
        "mat = np.ones((5,4))\n",
        "vec = np.random.rand(4) # in-memory vector in all map tasks\n",
        "\n",
        "def MAP(coordinates:(int, int), value:int):\n",
        "  i, j = coordinates\n",
        "  yield (i, value*vec[j])\n",
        "\n",
        "def REDUCE(i:int, products:Iterator[NamedTuple]):\n",
        "  sum = 0\n",
        "  for p in products:\n",
        "    sum += p\n",
        "  yield (i, sum)\n",
        "\n",
        "def RECORDREADER():\n",
        "  for i in range(mat.shape[0]):\n",
        "    for j in range(mat.shape[1]):\n",
        "      yield ((i, j), mat[i,j])\n",
        "\n",
        "output = MapReduce(RECORDREADER, MAP, REDUCE)\n",
        "output = list(output)\n",
        "output"
      ],
      "execution_count": 38,
      "outputs": [
        {
          "output_type": "execute_result",
          "data": {
            "text/plain": [
              "[(0, 2.670090321491538),\n",
              " (1, 2.670090321491538),\n",
              " (2, 2.670090321491538),\n",
              " (3, 2.670090321491538),\n",
              " (4, 2.670090321491538)]"
            ]
          },
          "metadata": {},
          "execution_count": 38
        }
      ]
    },
    {
      "cell_type": "markdown",
      "metadata": {
        "id": "ruZREYdi2o4O"
      },
      "source": [
        "## Inverted index"
      ]
    },
    {
      "cell_type": "code",
      "metadata": {
        "id": "vt9H9Alf3TYv",
        "colab": {
          "base_uri": "https://localhost:8080/"
        },
        "outputId": "3f0a5df0-017f-473d-f233-3fd47bd42ec3"
      },
      "source": [
        "from typing import Iterator\n",
        "\n",
        "d1 = \"it is what it is\"\n",
        "d2 = \"what is it\"\n",
        "d3 = \"it is a banana\"\n",
        "documents = [d1, d2, d3]\n",
        "\n",
        "def RECORDREADER():\n",
        "  for (docid, document) in enumerate(documents):\n",
        "    yield (\"{}\".format(docid), document)\n",
        "\n",
        "def MAP(docId:str, body:str):\n",
        "  for word in set(body.split(' ')):\n",
        "    yield (word, docId)\n",
        "\n",
        "def REDUCE(word:str, docIds:Iterator[str]):\n",
        "  yield (word, sorted(docIds))\n",
        "\n",
        "output = MapReduce(RECORDREADER, MAP, REDUCE)\n",
        "output = list(output)\n",
        "output"
      ],
      "execution_count": 39,
      "outputs": [
        {
          "output_type": "execute_result",
          "data": {
            "text/plain": [
              "[('it', ['0', '1', '2']),\n",
              " ('what', ['0', '1']),\n",
              " ('is', ['0', '1', '2']),\n",
              " ('a', ['2']),\n",
              " ('banana', ['2'])]"
            ]
          },
          "metadata": {},
          "execution_count": 39
        }
      ]
    },
    {
      "cell_type": "markdown",
      "metadata": {
        "id": "R7az-6DA6qr2"
      },
      "source": [
        "## WordCount"
      ]
    },
    {
      "cell_type": "code",
      "metadata": {
        "id": "dN-nbtgG6uYG",
        "colab": {
          "base_uri": "https://localhost:8080/"
        },
        "outputId": "b5aa6e5c-d73d-4f14-9bf9-99d711ce3c7c"
      },
      "source": [
        "from typing import Iterator\n",
        "\n",
        "d1 = \"\"\"\n",
        "it is what it is\n",
        "it is what it is\n",
        "it is what it is\"\"\"\n",
        "d2 = \"\"\"\n",
        "what is it\n",
        "what is it\"\"\"\n",
        "d3 = \"\"\"\n",
        "it is a banana\"\"\"\n",
        "documents = [d1, d2, d3]\n",
        "\n",
        "def RECORDREADER():\n",
        "  for (docid, document) in enumerate(documents):\n",
        "    for (lineid, line) in enumerate(document.split('\\n')):\n",
        "      yield (\"{}:{}\".format(docid,lineid), line)\n",
        "\n",
        "def MAP(docId:str, line:str):\n",
        "  for word in line.split(\" \"):\n",
        "    yield (word, 1)\n",
        "\n",
        "def REDUCE(word:str, counts:Iterator[int]):\n",
        "  sum = 0\n",
        "  for c in counts:\n",
        "    sum += c\n",
        "  yield (word, sum)\n",
        "\n",
        "output = MapReduce(RECORDREADER, MAP, REDUCE)\n",
        "output = list(output)\n",
        "output"
      ],
      "execution_count": 40,
      "outputs": [
        {
          "output_type": "execute_result",
          "data": {
            "text/plain": [
              "[('', 3), ('it', 9), ('is', 9), ('what', 5), ('a', 1), ('banana', 1)]"
            ]
          },
          "metadata": {},
          "execution_count": 40
        }
      ]
    },
    {
      "cell_type": "markdown",
      "metadata": {
        "id": "h-jRAcYCAkkk"
      },
      "source": [
        "# MapReduce Distributed\n",
        "\n",
        "Добавляется в модель фабрика RECORDREARER-ов --- INPUTFORMAT, функция распределения промежуточных результатов по партициям PARTITIONER, и функция COMBINER для частичной аггрегации промежуточных результатов до распределения по новым партициям."
      ]
    },
    {
      "cell_type": "code",
      "metadata": {
        "id": "nw-b-xJsApgW"
      },
      "source": [
        "def flatten(nested_iterable):\n",
        "  for iterable in nested_iterable:\n",
        "    for element in iterable:\n",
        "      yield element\n",
        "\n",
        "def groupbykey(iterable):\n",
        "  t = {}\n",
        "  for (k2, v2) in iterable:\n",
        "    t[k2] = t.get(k2, []) + [v2]\n",
        "  return t.items()\n",
        "\n",
        "def groupbykey_distributed(map_partitions, PARTITIONER):\n",
        "  global reducers\n",
        "  partitions = [dict() for _ in range(reducers)]\n",
        "  for map_partition in map_partitions:\n",
        "    for (k2, v2) in map_partition:\n",
        "      p = partitions[PARTITIONER(k2)]\n",
        "      p[k2] = p.get(k2, []) + [v2]\n",
        "  return [(partition_id, sorted(partition.items(), key=lambda x: x[0])) for (partition_id, partition) in enumerate(partitions)]\n",
        "\n",
        "def PARTITIONER(obj):\n",
        "  global reducers\n",
        "  return hash(obj) % reducers\n",
        "\n",
        "def MapReduceDistributed(INPUTFORMAT, MAP, REDUCE, PARTITIONER=PARTITIONER, COMBINER=None):\n",
        "  map_partitions = map(lambda record_reader: flatten(map(lambda k1v1: MAP(*k1v1), record_reader)), INPUTFORMAT())\n",
        "  if COMBINER != None:\n",
        "    map_partitions = map(lambda map_partition: flatten(map(lambda k2v2: COMBINER(*k2v2), groupbykey(map_partition))), map_partitions)\n",
        "  reduce_partitions = groupbykey_distributed(map_partitions, PARTITIONER) # shuffle\n",
        "  reduce_outputs = map(lambda reduce_partition: (reduce_partition[0], flatten(map(lambda reduce_input_group: REDUCE(*reduce_input_group), reduce_partition[1]))), reduce_partitions)\n",
        "\n",
        "  print(\"{} key-value pairs were sent over a network.\".format(sum([len(vs) for (k,vs) in flatten([partition for (partition_id, partition) in reduce_partitions])])))\n",
        "  return reduce_outputs"
      ],
      "execution_count": 41,
      "outputs": []
    },
    {
      "cell_type": "markdown",
      "metadata": {
        "id": "kxirlf3XqZxY"
      },
      "source": [
        "## Спецификация MapReduce Distributed\n",
        "\n",
        "\n",
        "```\n",
        "f (k1, v1) -> (k2,v2)*\n",
        "g (k2, v2*) -> (k3,v3)*\n",
        "\n",
        "e1 (k1, v1)\n",
        "e2 (k2, v2)\n",
        "partition1 (k2, v2)*\n",
        "partition2 (k2, v2*)*\n",
        "\n",
        "flatmap (e1->e2*, e1*) -> partition1*\n",
        "groupby (partition1*) -> partition2*\n",
        "\n",
        "mapreduce ((k1,v1)*) -> (k3,v3)*\n",
        "mapreduce .flatmap(f).groupby(k2).flatmap(g)\n",
        "```\n",
        "\n"
      ]
    },
    {
      "cell_type": "markdown",
      "metadata": {
        "id": "CWYw_CpbbY3C"
      },
      "source": [
        "## WordCount"
      ]
    },
    {
      "cell_type": "code",
      "metadata": {
        "id": "uR_zfGFkMZlp",
        "colab": {
          "base_uri": "https://localhost:8080/"
        },
        "outputId": "bf1b8425-94c0-4e3d-f163-9ad2aeb34002"
      },
      "source": [
        "from typing import Iterator\n",
        "import numpy as np\n",
        "\n",
        "d1 = \"\"\"\n",
        "it is what it is\n",
        "it is what it is\n",
        "it is what it is\"\"\"\n",
        "d2 = \"\"\"\n",
        "what is it\n",
        "what is it\"\"\"\n",
        "d3 = \"\"\"\n",
        "it is a banana\"\"\"\n",
        "documents = [d1, d2, d3, d1, d2, d3]\n",
        "\n",
        "maps = 3\n",
        "reducers = 2\n",
        "\n",
        "def INPUTFORMAT():\n",
        "  global maps\n",
        "\n",
        "  def RECORDREADER(split):\n",
        "    for (docid, document) in enumerate(split):\n",
        "      for (lineid, line) in enumerate(document.split('\\n')):\n",
        "        yield (\"{}:{}\".format(docid,lineid), line)\n",
        "\n",
        "  split_size =  int(np.ceil(len(documents)/maps))\n",
        "  for i in range(0, len(documents), split_size):\n",
        "    yield RECORDREADER(documents[i:i+split_size])\n",
        "\n",
        "def MAP(docId:str, line:str):\n",
        "  for word in line.split(\" \"):\n",
        "    yield (word, 1)\n",
        "\n",
        "def REDUCE(word:str, counts:Iterator[int]):\n",
        "  sum = 0\n",
        "  for c in counts:\n",
        "    sum += c\n",
        "  yield (word, sum)\n",
        "\n",
        "# try to set COMBINER=REDUCER and look at the number of values sent over the network\n",
        "partitioned_output = MapReduceDistributed(INPUTFORMAT, MAP, REDUCE, COMBINER=None)\n",
        "partitioned_output = [(partition_id, list(partition)) for (partition_id, partition) in partitioned_output]\n",
        "partitioned_output"
      ],
      "execution_count": 42,
      "outputs": [
        {
          "output_type": "stream",
          "name": "stdout",
          "text": [
            "56 key-value pairs were sent over a network.\n"
          ]
        },
        {
          "output_type": "execute_result",
          "data": {
            "text/plain": [
              "[(0, [('', 6), ('banana', 2), ('it', 18)]),\n",
              " (1, [('a', 2), ('is', 18), ('what', 10)])]"
            ]
          },
          "metadata": {},
          "execution_count": 42
        }
      ]
    },
    {
      "cell_type": "markdown",
      "metadata": {
        "id": "gCJGx8IQ87xS"
      },
      "source": [
        "## TeraSort"
      ]
    },
    {
      "cell_type": "code",
      "metadata": {
        "id": "P2v8v1v_8_YR",
        "colab": {
          "base_uri": "https://localhost:8080/"
        },
        "outputId": "3618105e-138f-4320-eab9-2db7a067113e"
      },
      "source": [
        "import numpy as np\n",
        "\n",
        "input_values = np.random.rand(30)\n",
        "maps = 3\n",
        "reducers = 2\n",
        "min_value = 0.0\n",
        "max_value = 1.0\n",
        "\n",
        "def INPUTFORMAT():\n",
        "  global maps\n",
        "\n",
        "  def RECORDREADER(split):\n",
        "    for value in split:\n",
        "        yield (value, None)\n",
        "\n",
        "  split_size =  int(np.ceil(len(input_values)/maps))\n",
        "  for i in range(0, len(input_values), split_size):\n",
        "    yield RECORDREADER(input_values[i:i+split_size])\n",
        "\n",
        "def MAP(value:int, _):\n",
        "  yield (value, None)\n",
        "\n",
        "def PARTITIONER(key):\n",
        "  global reducers\n",
        "  global max_value\n",
        "  global min_value\n",
        "  bucket_size = (max_value-min_value)/reducers\n",
        "  bucket_id = 0\n",
        "  while((key>(bucket_id+1)*bucket_size) and ((bucket_id+1)*bucket_size<max_value)):\n",
        "    bucket_id += 1\n",
        "  return bucket_id\n",
        "\n",
        "def REDUCE(value:int, _):\n",
        "  yield (None,value)\n",
        "\n",
        "partitioned_output = MapReduceDistributed(INPUTFORMAT, MAP, REDUCE, COMBINER=None, PARTITIONER=PARTITIONER)\n",
        "partitioned_output = [(partition_id, list(partition)) for (partition_id, partition) in partitioned_output]\n",
        "partitioned_output"
      ],
      "execution_count": 43,
      "outputs": [
        {
          "output_type": "stream",
          "name": "stdout",
          "text": [
            "30 key-value pairs were sent over a network.\n"
          ]
        },
        {
          "output_type": "execute_result",
          "data": {
            "text/plain": [
              "[(0,\n",
              "  [(None, 0.030652502205806065),\n",
              "   (None, 0.0603520839905638),\n",
              "   (None, 0.07219840897917584),\n",
              "   (None, 0.08011484638467514),\n",
              "   (None, 0.08162998203058958),\n",
              "   (None, 0.15954468011318834),\n",
              "   (None, 0.18211791568869928),\n",
              "   (None, 0.19954245092914513),\n",
              "   (None, 0.21921398735804432),\n",
              "   (None, 0.22845474133129873),\n",
              "   (None, 0.24710323401014644),\n",
              "   (None, 0.33689579177110685),\n",
              "   (None, 0.45231828451830014),\n",
              "   (None, 0.498195716453139)]),\n",
              " (1,\n",
              "  [(None, 0.5264026609361132),\n",
              "   (None, 0.5475923761537362),\n",
              "   (None, 0.5553635509376312),\n",
              "   (None, 0.643577695196525),\n",
              "   (None, 0.6503256863469369),\n",
              "   (None, 0.6587077755008761),\n",
              "   (None, 0.6802282424312913),\n",
              "   (None, 0.7192017782722638),\n",
              "   (None, 0.7315895217553319),\n",
              "   (None, 0.7896985071424791),\n",
              "   (None, 0.8172977699624937),\n",
              "   (None, 0.8717835665922017),\n",
              "   (None, 0.8948166560605276),\n",
              "   (None, 0.9747931621467831),\n",
              "   (None, 0.9758652558191313),\n",
              "   (None, 0.9963339160567419)])]"
            ]
          },
          "metadata": {},
          "execution_count": 43
        }
      ]
    },
    {
      "cell_type": "code",
      "metadata": {
        "id": "MQhoJaVZI93G"
      },
      "source": [],
      "execution_count": 43,
      "outputs": []
    },
    {
      "cell_type": "markdown",
      "metadata": {
        "id": "Iy65YJTH99iT"
      },
      "source": [
        "# Упражнения\n",
        "Упражнения взяты из Rajaraman A., Ullman J. D. Mining of massive datasets. – Cambridge University Press, 2011.\n",
        "\n",
        "\n",
        "Для выполнения заданий переопределите функции RECORDREADER, MAP, REDUCE. Для модели распределённой системы может потребоваться переопределение функций PARTITION и COMBINER."
      ]
    },
    {
      "cell_type": "markdown",
      "metadata": {
        "id": "cfvAeZm3S8S8"
      },
      "source": [
        "### Максимальное значение ряда\n",
        "\n",
        "Разработайте MapReduce алгоритм, который находит максимальное число входного списка чисел."
      ]
    },
    {
      "cell_type": "code",
      "metadata": {
        "id": "3GRA1JR-Tkbg",
        "colab": {
          "base_uri": "https://localhost:8080/"
        },
        "outputId": "0c0b043b-7c6e-41f4-a948-35b3eed4a423"
      },
      "source": [
        "import numpy as np\n",
        "\n",
        "# Генерируем 30 случайных чисел от 0 до 1\n",
        "input_values = np.random.rand(30)\n",
        "print(\"Исходный список чисел:\", input_values)\n",
        "\n",
        "# Функция, которая передаёт числа в виде (ключ, значение)\n",
        "def RECORDREADER():\n",
        "    for value in input_values:\n",
        "        yield (None, value)  # Ключ фиксированный, чтобы все значения группировались вместе\n",
        "\n",
        "# Функция MAP\n",
        "def MAP(_, value):\n",
        "    \"\"\"Каждое число маппится на один ключ (None).\"\"\"\n",
        "    yield (None, value)\n",
        "\n",
        "# Функция REDUCE\n",
        "def REDUCE(_, values):\n",
        "    \"\"\"Из списка значений выбирается максимальное.\"\"\"\n",
        "    yield (None, max(values))\n",
        "\n",
        "# Выполнение MapReduce\n",
        "max_value_output = list(MapReduce(RECORDREADER, MAP, REDUCE))\n",
        "\n",
        "# Выводим результат\n",
        "print(\"Максимальное значение:\", max_value_output[0][1])\n"
      ],
      "execution_count": 44,
      "outputs": [
        {
          "output_type": "stream",
          "name": "stdout",
          "text": [
            "Исходный список чисел: [0.25768289 0.46262296 0.86827251 0.72716907 0.74270652 0.42549333\n",
            " 0.34593499 0.37103876 0.98764956 0.04010919 0.8670315  0.57867541\n",
            " 0.43861542 0.72525766 0.48666894 0.87342324 0.90070186 0.42172093\n",
            " 0.2768278  0.59235033 0.91236335 0.21066219 0.62296658 0.63156022\n",
            " 0.73311302 0.13156769 0.71582496 0.90903252 0.17968311 0.23754332]\n",
            "Максимальное значение: 0.9876495637360578\n"
          ]
        }
      ]
    },
    {
      "cell_type": "markdown",
      "metadata": {
        "id": "k86bXnqZTk-U"
      },
      "source": [
        "### Арифметическое среднее\n",
        "\n",
        "Разработайте MapReduce алгоритм, который находит арифметическое среднее.\n",
        "\n",
        "$$\\overline{X} = \\frac{1}{n}\\sum_{i=0}^{n} x_i$$\n"
      ]
    },
    {
      "cell_type": "code",
      "metadata": {
        "id": "MPoY5pkfUNZf",
        "colab": {
          "base_uri": "https://localhost:8080/"
        },
        "outputId": "ee58bc77-7bfd-4bf8-8f5e-0c467040239c"
      },
      "source": [
        "import numpy as np\n",
        "\n",
        "# Генерируем 100 случайных чисел от 0 до 1\n",
        "input_values = np.random.rand(30)\n",
        "print(\"Исходный список чисел:\", input_values)\n",
        "\n",
        "# Функция, которая передаёт числа в виде (ключ, значение)\n",
        "def RECORDREADER():\n",
        "    for value in input_values:\n",
        "        yield (None, value)  # Ключ фиксированный, чтобы все значения группировались вместе\n",
        "\n",
        "# Функция MAP\n",
        "def MAP(_, value):  # Исправлено: теперь принимает (ключ, значение)\n",
        "    \"\"\"Каждое число маппится на один ключ (None).\"\"\"\n",
        "    yield (None, value)\n",
        "\n",
        "# Функция REDUCE\n",
        "def REDUCE(_, values):\n",
        "    \"\"\"Вычисляет среднее значение из списка чисел.\"\"\"\n",
        "    yield (None, sum(values) / len(values))\n",
        "\n",
        "# Выполнение MapReduce\n",
        "average_value_output = list(MapReduce(RECORDREADER, MAP, REDUCE))\n",
        "\n",
        "# Выводим результат\n",
        "print(\"Среднее значение:\", average_value_output[0][1])\n"
      ],
      "execution_count": 45,
      "outputs": [
        {
          "output_type": "stream",
          "name": "stdout",
          "text": [
            "Исходный список чисел: [0.97139509 0.18097695 0.85438509 0.49227786 0.24723107 0.8707499\n",
            " 0.44530526 0.51481735 0.35923337 0.59295085 0.16352387 0.39108154\n",
            " 0.96941232 0.25813343 0.65673666 0.32519006 0.77347313 0.13087366\n",
            " 0.96982105 0.45378954 0.23605046 0.07349675 0.16975791 0.51977395\n",
            " 0.33700318 0.82888337 0.43088752 0.24871427 0.61714499 0.70677722]\n",
            "Среднее значение: 0.49299492247635474\n"
          ]
        }
      ]
    },
    {
      "cell_type": "markdown",
      "metadata": {
        "id": "xanzszhsIlLe"
      },
      "source": [
        "### GroupByKey на основе сортировки\n",
        "\n",
        "Реализуйте groupByKey на основе сортировки, проверьте его работу на примерах"
      ]
    },
    {
      "cell_type": "code",
      "metadata": {
        "id": "hQPn3USsIkEC",
        "colab": {
          "base_uri": "https://localhost:8080/"
        },
        "outputId": "2e21e11b-f8a2-4d69-898b-dd439cae3cb1"
      },
      "source": [
        "def groupbykey_sorted(iterable):\n",
        "    \"\"\"Группирует пары (k, v) по k, используя сортировку без groupby.\"\"\"\n",
        "    sorted_iterable = sorted(iterable, key=lambda x: x[0])  # Сортируем по ключу\n",
        "    grouped_data = []\n",
        "\n",
        "    current_key, current_group = sorted_iterable[0][0], []  # Первый ключ\n",
        "    for key, value in sorted_iterable:\n",
        "        if key == current_key:\n",
        "            current_group.append(value)  # Добавляем значение в текущую группу\n",
        "        else:\n",
        "            grouped_data.append((current_key, current_group))  # Сохраняем старую группу\n",
        "            current_key, current_group = key, [value]  # Начинаем новую группу\n",
        "\n",
        "    grouped_data.append((current_key, current_group))  # Добавляем последнюю группу\n",
        "    return grouped_data\n",
        "\n",
        "# Тестируем на примере\n",
        "input_data = [\n",
        "    (\"a\", 1), (\"b\", 2), (\"a\", 3), (\"b\", 4), (\"c\", 5), (\"a\", 6)\n",
        "]\n",
        "\n",
        "result = groupbykey_sorted(input_data)\n",
        "print(result)\n"
      ],
      "execution_count": 46,
      "outputs": [
        {
          "output_type": "stream",
          "name": "stdout",
          "text": [
            "[('a', [1, 3, 6]), ('b', [2, 4]), ('c', [5])]\n"
          ]
        }
      ]
    },
    {
      "cell_type": "markdown",
      "metadata": {
        "id": "5SgEjCZyGnu6"
      },
      "source": [
        "### Drop duplicates (set construction, unique elements, distinct)\n",
        "\n",
        "Реализуйте распределённую операцию исключения дубликатов"
      ]
    },
    {
      "cell_type": "code",
      "metadata": {
        "id": "okjbyApjGhMt",
        "colab": {
          "base_uri": "https://localhost:8080/"
        },
        "outputId": "f4665662-98cc-47cc-a871-601dd506d9fe"
      },
      "source": [
        "from itertools import chain\n",
        "\n",
        "reducers = 2  # Количество редьюсеров\n",
        "\n",
        "def INPUTFORMAT():\n",
        "    global maps\n",
        "    input_values = [\"apple\", \"banana\", \"apple\", \"orange\", \"banana\", \"grape\", \"grape\", \"apple\"]\n",
        "\n",
        "    def RECORDREADER(split):\n",
        "        for value in split:\n",
        "            yield (value, None)  # Формат (значение, None)\n",
        "\n",
        "    split_size = max(1, len(input_values) // maps)\n",
        "    for i in range(0, len(input_values), split_size):\n",
        "        yield RECORDREADER(input_values[i:i+split_size])\n",
        "\n",
        "def MAP(value, _):\n",
        "    yield (value, None)  # Просто передаем ключ, значение не важно\n",
        "\n",
        "def PARTITIONER(key):\n",
        "    global reducers\n",
        "    return hash(key) % reducers  # Определяет, какой редьюсер обработает ключ\n",
        "\n",
        "def REDUCE(value, _):\n",
        "    yield (value, None)  # Возвращаем только одно значение\n",
        "\n",
        "\n",
        "maps = 2  # Количество мапперов\n",
        "unique_values_output = MapReduceDistributed(INPUTFORMAT, MAP, REDUCE, PARTITIONER)\n",
        "\n",
        "# Преобразуем результат в удобный формат\n",
        "unique_values_output = [value for (_, partition) in unique_values_output for (value, _) in partition]\n",
        "print(\"Unique values:\", unique_values_output)  # Ожидаем ['apple', 'banana', 'orange', 'grape']\n"
      ],
      "execution_count": 47,
      "outputs": [
        {
          "output_type": "stream",
          "name": "stdout",
          "text": [
            "8 key-value pairs were sent over a network.\n",
            "Unique values: ['apple', 'banana', 'grape', 'orange']\n"
          ]
        }
      ]
    },
    {
      "cell_type": "markdown",
      "metadata": {
        "id": "e7sRGoTXuJze"
      },
      "source": [
        "#Операторы реляционной алгебры\n",
        "### Selection (Выборка)\n",
        "\n",
        "**The Map Function**: Для  каждого кортежа $t \\in R$ вычисляется истинность предиката $C$. В случае истины создаётся пара ключ-значение $(t, t)$. В паре ключ и значение одинаковы, равны $t$.\n",
        "\n",
        "**The Reduce Function:** Роль функции Reduce выполняет функция идентичности, которая возвращает то же значение, что получила на вход.\n",
        "\n"
      ]
    },
    {
      "cell_type": "code",
      "metadata": {
        "id": "4nKIKe59uIfc",
        "colab": {
          "base_uri": "https://localhost:8080/"
        },
        "outputId": "ebb17365-a991-485b-bc13-3e870a54cee4"
      },
      "source": [
        "def C(t):\n",
        "    \"\"\"Предикат: проверяет, делится ли сумма элементов кортежа на 2 без остатка.\"\"\"\n",
        "    return (t[0] + t[1]) % 2 == 0\n",
        "\n",
        "def RECORDREADER():\n",
        "    \"\"\"Генерирует кортежи из набора данных.\"\"\"\n",
        "    dataset = [(0, 2), (6, 1), (5, 5)]\n",
        "    for t in dataset:\n",
        "        yield (t, None)  # Фиксированный ключ для обработки MapReduce\n",
        "\n",
        "def MAP(t, _):\n",
        "    \"\"\"Применяет предикат к каждому элементу и передает в Reduce, если условие выполняется.\"\"\"\n",
        "    if C(t):\n",
        "        yield (t, t)  # Ключ и значение равны отобранному элементу\n",
        "\n",
        "def REDUCE(_, values):\n",
        "    \"\"\"Функция идентичности — возвращает полученные значения.\"\"\"\n",
        "    yield from values\n",
        "\n",
        "# Запуск MapReduce\n",
        "result = list(MapReduce(RECORDREADER, MAP, REDUCE))\n",
        "\n",
        "# Вывод результата\n",
        "print(\"Выбранные кортежи по условию деления суммы элементов кортежа на 2 без остатка:\", result)\n"
      ],
      "execution_count": 48,
      "outputs": [
        {
          "output_type": "stream",
          "name": "stdout",
          "text": [
            "Выбранные кортежи по условию деления суммы элементов кортежа на 2 без остатка: [(0, 2), (5, 5)]\n"
          ]
        }
      ]
    },
    {
      "cell_type": "markdown",
      "metadata": {
        "id": "w27Ca-_Ku85V"
      },
      "source": [
        "### Projection (Проекция)\n",
        "\n",
        "Проекция на множество атрибутов $S$.\n",
        "\n",
        "**The Map Function:** Для каждого кортежа $t \\in R$ создайте кортеж $t′$, исключая  из $t$ те значения, атрибуты которых не принадлежат  $S$. Верните пару $(t′, t′)$.\n",
        "\n",
        "**The Reduce Function:** Для каждого ключа $t′$, созданного любой Map задачей, вы получаете одну или несколько пар $(t′, t′)$. Reduce функция преобразует $(t′, [t′, t′, . . . , t′])$ в $(t′, t′)$, так, что для ключа $t′$ возвращается одна пара  $(t′, t′)$."
      ]
    },
    {
      "cell_type": "code",
      "metadata": {
        "id": "BEvuY4GqvhS6",
        "colab": {
          "base_uri": "https://localhost:8080/"
        },
        "outputId": "cf4fd042-9455-4648-be79-31114e6bdb41"
      },
      "source": [
        "S = {1, 5, 10}  # Оставляем только эти атрибуты\n",
        "\n",
        "def MAP(t, _):\n",
        "    \"\"\"Оставляем только нужные атрибуты.\"\"\"\n",
        "    result = {k: v for k, v in t.items() if k in S}\n",
        "    key = tuple(sorted(result.items()))  # Делаем ключ предсказуемым\n",
        "    yield (key, key)  # Пара (t', t')\n",
        "\n",
        "def REDUCE(_, values):\n",
        "    \"\"\"Удаляем дубликаты.\"\"\"\n",
        "    yield values[0]  # Оставляем один экземпляр\n",
        "\n",
        "def RECORDREADER():\n",
        "    \"\"\"Генератор данных.\"\"\"\n",
        "    yield ({1: \"apple\", 2: \"banana\", 5: \"grape\"}, None)\n",
        "    yield ({1: \"orange\", 3: \"pear\", 10: \"kiwi\"}, None)\n",
        "    yield ({5: \"melon\", 7: \"cherry\", 10: \"mango\"}, None)\n",
        "\n",
        "# Выполнение MapReduce\n",
        "result = list(MapReduce(RECORDREADER, MAP, REDUCE))\n",
        "\n",
        "# Вывод результата\n",
        "print(\"Проекция по атрибутам:\", result)\n"
      ],
      "execution_count": 49,
      "outputs": [
        {
          "output_type": "stream",
          "name": "stdout",
          "text": [
            "Проекция по атрибутам: [((1, 'apple'), (5, 'grape')), ((1, 'orange'), (10, 'kiwi')), ((5, 'melon'), (10, 'mango'))]\n"
          ]
        }
      ]
    },
    {
      "cell_type": "markdown",
      "metadata": {
        "id": "7gau6lKXvn2R"
      },
      "source": [
        "### Union (Объединение)\n",
        "\n",
        "**The Map Function:** Превратите каждый входной кортеж $t$ в пару ключ-значение $(t, t)$.\n",
        "\n",
        "**The Reduce Function:** С каждым ключом $t$ будет ассоциировано одно или два значений. В обоих случаях создайте $(t, t)$ в качестве выходного значения."
      ]
    },
    {
      "cell_type": "code",
      "metadata": {
        "id": "Sns7a5agv3nw",
        "colab": {
          "base_uri": "https://localhost:8080/"
        },
        "outputId": "1be50604-515e-4c20-9d72-ba7621002d28"
      },
      "source": [
        "def MAP(t, _):\n",
        "    \"\"\"Каждый входной элемент превращается в пару (t, t).\"\"\"\n",
        "    yield (t, t)\n",
        "\n",
        "def REDUCE(t, values):\n",
        "    \"\"\"Удаляет дубликаты и возвращает (t, t).\"\"\"\n",
        "    yield (t, t)  # Значения уже сгруппированы, просто оставляем один экземпляр\n",
        "\n",
        "def RECORDREADER():\n",
        "    \"\"\"Объединяем два множества.\"\"\"\n",
        "    set1 = [(1, None), (2, None), (3, None)]\n",
        "    set2 = [(2, None), (4, None), (5, None)]\n",
        "    return set1 + set2  # Симуляция объединения двух множеств\n",
        "\n",
        "# Выполнение MapReduce\n",
        "result = list(MapReduce(RECORDREADER, MAP, REDUCE))\n",
        "\n",
        "# Вывод результата\n",
        "print(\"Объединенное множество:\", result)\n"
      ],
      "execution_count": 50,
      "outputs": [
        {
          "output_type": "stream",
          "name": "stdout",
          "text": [
            "Объединенное множество: [(1, 1), (2, 2), (3, 3), (4, 4), (5, 5)]\n"
          ]
        }
      ]
    },
    {
      "cell_type": "markdown",
      "metadata": {
        "id": "dQ8TuEbjv4J8"
      },
      "source": [
        "### Intersection (Пересечение)\n",
        "\n",
        "**The Map Function:** Превратите каждый кортеж $t$ в пары ключ-значение $(t, t)$.\n",
        "\n",
        "**The Reduce Function:** Если для ключа $t$ есть список из двух элементов $[t, t]$ $-$ создайте пару $(t, t)$. Иначе, ничего не создавайте."
      ]
    },
    {
      "cell_type": "code",
      "metadata": {
        "id": "XKlBZh4IwERR",
        "colab": {
          "base_uri": "https://localhost:8080/"
        },
        "outputId": "a1ce43c8-693b-4564-e78b-7b57584918f1"
      },
      "source": [
        "def MAP(t, _):\n",
        "    \"\"\"Каждый входной элемент превращается в пару (t, t).\"\"\"\n",
        "    yield (t, t)\n",
        "\n",
        "def REDUCE(t, values):\n",
        "    \"\"\"Если элемент встречается в обоих множествах (дважды), добавляем его в результат.\"\"\"\n",
        "    if len(values) == 2:\n",
        "        yield (t, t)\n",
        "\n",
        "def RECORDREADER():\n",
        "    \"\"\"Пересечение двух множеств: {1, 2, 3, 4} и {2, 3, 5, 6}.\"\"\"\n",
        "    set1 = [(1, None), (2, None), (3, None), (4, None)]\n",
        "    set2 = [(2, None), (3, None), (5, None), (6, None)]\n",
        "    return set1 + set2  # Симуляция объединения данных перед MapReduce\n",
        "\n",
        "# Выполнение MapReduce\n",
        "result = list(MapReduce(RECORDREADER, MAP, REDUCE))\n",
        "\n",
        "# Вывод результата\n",
        "print(\"Пересечение множеств:\", result)\n"
      ],
      "execution_count": 51,
      "outputs": [
        {
          "output_type": "stream",
          "name": "stdout",
          "text": [
            "Пересечение множеств: [(2, 2), (3, 3)]\n"
          ]
        }
      ]
    },
    {
      "cell_type": "markdown",
      "metadata": {
        "id": "AVOpqoY3wE5k"
      },
      "source": [
        "### Difference (Разница)\n",
        "\n",
        "**The Map Function:** Для кортежа $t \\in R$, создайте пару $(t, R)$, и для кортежа $t \\in S$, создайте пару $(t, S)$. Задумка заключается в том, чтобы значение пары было именем отношения $R$ or $S$, которому принадлежит кортеж (а лучше, единичный бит, по которому можно два отношения различить $R$ or $S$), а не весь набор атрибутов отношения.\n",
        "\n",
        "**The Reduce Function:** Для каждого ключа $t$, если соответствующее значение является списком $[R]$, создайте пару $(t, t)$. В иных случаях не предпринимайте действий."
      ]
    },
    {
      "cell_type": "code",
      "metadata": {
        "id": "QE_AC09lwZIZ",
        "colab": {
          "base_uri": "https://localhost:8080/"
        },
        "outputId": "620aa624-383d-4b2e-c1c5-399e2c93c747"
      },
      "source": [
        "def MAP(t, source):\n",
        "    \"\"\"Помечаем каждый элемент его источником (R или S).\"\"\"\n",
        "    yield (t, source)\n",
        "\n",
        "def REDUCE(t, values):\n",
        "    \"\"\"Добавляем элемент в результат, если он есть только в R.\"\"\"\n",
        "    if values == [\"R\"]:  # Значит, элемент не встречался в S\n",
        "        yield (t, t)\n",
        "\n",
        "def RECORDREADER():\n",
        "    \"\"\"Задаем два множества: R и S.\"\"\"\n",
        "    R = [(1, \"R\"), (2, \"R\"), (3, \"R\"), (4, \"R\")]  # Множество R\n",
        "    S = [(2, \"S\"), (3, \"S\"), (5, \"S\"), (6, \"S\")]  # Множество S\n",
        "    return R + S  # Объединяем их в один список для обработки\n",
        "\n",
        "# Запуск MapReduce\n",
        "result = list(MapReduce(RECORDREADER, MAP, REDUCE))\n",
        "\n",
        "# Вывод результата\n",
        "print(\"Разность R - S:\", result)\n"
      ],
      "execution_count": 52,
      "outputs": [
        {
          "output_type": "stream",
          "name": "stdout",
          "text": [
            "Разность R - S: [(1, 1), (4, 4)]\n"
          ]
        }
      ]
    },
    {
      "cell_type": "markdown",
      "metadata": {
        "id": "j8I58V2VwhSm"
      },
      "source": [
        "### Natural Join\n",
        "\n",
        "**The Map Function:** Для каждого кортежа $(a, b)$ отношения $R$, создайте пару $(b,(R, a))$. Для каждого кортежа $(b, c)$ отношения $S$, создайте пару $(b,(S, c))$.\n",
        "\n",
        "**The Reduce Function:** Каждый ключ $b$ будет асоциирован со списком пар, которые принимают форму либо $(R, a)$, либо $(S, c)$. Создайте все пары, одни, состоящие из  первого компонента $R$, а другие, из первого компонента $S$, то есть $(R, a)$ и $(S, c)$. На выходе вы получаете последовательность пар ключ-значение из списков ключей и значений. Ключ не нужен. Каждое значение, это тройка $(a, b, c)$ такая, что $(R, a)$ и $(S, c)$ это принадлежат входному списку значений."
      ]
    },
    {
      "cell_type": "code",
      "metadata": {
        "id": "yHiuuTctw86I",
        "colab": {
          "base_uri": "https://localhost:8080/"
        },
        "outputId": "ed5068a5-de3c-4814-811a-7cfa8cfaf235"
      },
      "source": [
        "def MAP(record, source):\n",
        "    \"\"\"Формирует пары (b, (источник, значение)) для дальнейшего соединения.\"\"\"\n",
        "    if source == \"R\":\n",
        "        a, b = record\n",
        "        yield (b, (\"R\", a))\n",
        "    elif source == \"S\":\n",
        "        b, c = record\n",
        "        yield (b, (\"S\", c))\n",
        "\n",
        "def REDUCE(b, values):\n",
        "    \"\"\"Создает пары (a, b, c) для каждого подходящего соединения.\"\"\"\n",
        "    r_values = [a for src, a in values if src == \"R\"]\n",
        "    s_values = [c for src, c in values if src == \"S\"]\n",
        "\n",
        "    for a in r_values:\n",
        "        for c in s_values:\n",
        "            yield (a, b, c)  # Оставляем b для наглядности\n",
        "\n",
        "def RECORDREADER():\n",
        "    \"\"\"Данные для соединения: R(a, b) и S(b, c).\"\"\"\n",
        "    R = [(\"A\", 1), (\"B\", 2), (\"C\", 3)]  # (a, b)\n",
        "    S = [(1, \"apple\"), (2, \"banana\"), (3, \"cherry\")]  # (b, c)\n",
        "    return [(r, \"R\") for r in R] + [(s, \"S\") for s in S]\n",
        "\n",
        "# Запуск MapReduce\n",
        "result = list(MapReduce(RECORDREADER, MAP, REDUCE))\n",
        "\n",
        "# Вывод результата\n",
        "print(\"Natural Join:\", result)\n"
      ],
      "execution_count": 53,
      "outputs": [
        {
          "output_type": "stream",
          "name": "stdout",
          "text": [
            "Natural Join: [('A', 1, 'apple'), ('B', 2, 'banana'), ('C', 3, 'cherry')]\n"
          ]
        }
      ]
    },
    {
      "cell_type": "markdown",
      "metadata": {
        "id": "kYdlr0YUxE27"
      },
      "source": [
        "### Grouping and Aggregation (Группировка и аггрегация)\n",
        "\n",
        "**The Map Function:** Для каждого кортежа $(a, b, c$) создайте пару $(a, b)$.\n",
        "\n",
        "**The Reduce Function:** Ключ представляет ту или иную группу. Примение аггрегирующую операцию $\\theta$ к списку значений $[b1, b2, . . . , bn]$ ассоциированных с ключом $a$. Возвращайте в выходной поток $(a, x)$, где $x$ результат применения  $\\theta$ к списку. Например, если $\\theta$ это $SUM$, тогда $x = b1 + b2 + · · · + bn$, а если $\\theta$ is $MAX$, тогда $x$ это максимальное из значений $b1, b2, . . . , bn$."
      ]
    },
    {
      "cell_type": "code",
      "metadata": {
        "id": "MLPckfEGxico",
        "colab": {
          "base_uri": "https://localhost:8080/"
        },
        "outputId": "edfa2e6e-2043-4efe-f693-ed9cbe091f45"
      },
      "source": [
        "from collections import defaultdict\n",
        "from typing import Callable, List, Tuple\n",
        "\n",
        "def MAP(a, b, c):\n",
        "    \"\"\"Формируем (ключ, значение для агрегации).\"\"\"\n",
        "    yield (a, b)\n",
        "\n",
        "def REDUCE(a, values, aggregation_function: Callable[[List[int]], int]):\n",
        "    \"\"\"Применяем агрегирующую функцию и выдаем (ключ, агрегированное значение).\"\"\"\n",
        "    yield (a, aggregation_function(values))\n",
        "\n",
        "def RECORDREADER():\n",
        "    \"\"\"Пример данных (a, b, c).\"\"\"\n",
        "    return [(1, 10, \"x\"), (2, 20, \"y\"), (1, 15, \"z\"), (2, 25, \"w\"), (3, 30, \"v\")]\n",
        "\n",
        "def shuffle_phase(mapped_data: List[Tuple[int, int]]) -> dict:\n",
        "    \"\"\"Группируем значения по ключу.\"\"\"\n",
        "    grouped_data = defaultdict(list)\n",
        "    for key, value in mapped_data:\n",
        "        grouped_data[key].append(value)\n",
        "    return grouped_data\n",
        "\n",
        "def MapReduce(recordreader, map_func, reduce_func, aggregation_function):\n",
        "    \"\"\"Общая MapReduce логика.\"\"\"\n",
        "    records = recordreader()\n",
        "\n",
        "    # MAP\n",
        "    mapped_data = []\n",
        "    for record in records:\n",
        "        mapped_data.extend(map_func(*record))  # Распаковываем кортежи\n",
        "\n",
        "    # SHUFFLE\n",
        "    grouped_data = shuffle_phase(mapped_data)\n",
        "\n",
        "    # REDUCE\n",
        "    reduced_data = []\n",
        "    for key, values in grouped_data.items():\n",
        "        reduced_data.extend(reduce_func(key, values, aggregation_function))\n",
        "\n",
        "    return reduced_data\n",
        "\n",
        "# Используем SUM\n",
        "print(\"SUM Aggregation:\", MapReduce(RECORDREADER, MAP, REDUCE, sum))\n",
        "\n",
        "# Используем MAX\n",
        "print(\"MAX Aggregation:\", MapReduce(RECORDREADER, MAP, REDUCE, max))\n"
      ],
      "execution_count": 54,
      "outputs": [
        {
          "output_type": "stream",
          "name": "stdout",
          "text": [
            "SUM Aggregation: [(1, 25), (2, 45), (3, 30)]\n",
            "MAX Aggregation: [(1, 15), (2, 25), (3, 30)]\n"
          ]
        }
      ]
    },
    {
      "cell_type": "markdown",
      "metadata": {
        "id": "03IffTEOJgOb"
      },
      "source": [
        "#"
      ]
    },
    {
      "cell_type": "markdown",
      "metadata": {
        "id": "IIrRgvG4RIS4"
      },
      "source": [
        "### Matrix-Vector multiplication\n",
        "\n",
        "Случай, когда вектор не помещается в памяти Map задачи\n"
      ]
    },
    {
      "cell_type": "code",
      "metadata": {
        "id": "KQhDbiL3zS9r",
        "colab": {
          "base_uri": "https://localhost:8080/"
        },
        "outputId": "1f84bebf-c586-4bdb-b418-a7bc5e26410e"
      },
      "source": [
        "from typing import List, Tuple, Dict, NamedTuple\n",
        "from collections import defaultdict\n",
        "\n",
        "NUM_REDUCERS = 2  # Количество редукторов\n",
        "CHUNK_SIZE = 2  # Размер чанка вектора\n",
        "\n",
        "# Функция отображения для матрицы\n",
        "def map_matrix(row: NamedTuple) -> Tuple[int, Tuple[str, NamedTuple]]:\n",
        "    return row.col % NUM_REDUCERS, ('M', row)\n",
        "\n",
        "# Функция отображения для вектора (разбитого на чанки)\n",
        "def map_vector(vector_chunk: List[NamedTuple]) -> List[Tuple[int, Tuple[str, NamedTuple]]]:\n",
        "    return [(el.index % NUM_REDUCERS, ('V', el)) for el in vector_chunk]\n",
        "\n",
        "# Функция редукции (умножение части матрицы на соответствующую часть вектора)\n",
        "def reduce_partial(reducer_id: int, values: List[Tuple[str, NamedTuple]]) -> List[Tuple[int, float]]:\n",
        "    matrix_rows, vector_elements = [], []\n",
        "    for tag, record in values:\n",
        "        (matrix_rows if tag == 'M' else vector_elements).append(record)\n",
        "\n",
        "    return [(row.row, row.value * el.value) for row in matrix_rows for el in vector_elements if row.col == el.index]\n",
        "\n",
        "# Функция группировки значений по редукторам\n",
        "def shuffle(mapped_data: List[Tuple[int, Tuple[str, NamedTuple]]]) -> Dict[int, List[Tuple[str, NamedTuple]]]:\n",
        "    grouped = defaultdict(list)\n",
        "    for reducer_id, pair in mapped_data:\n",
        "        grouped[reducer_id].append(pair)\n",
        "    return grouped\n",
        "\n",
        "# Функция финальной агрегации (складывает частичные произведения)\n",
        "def aggregate(partial_results: List[Tuple[int, float]]) -> Dict[int, float]:\n",
        "    result = defaultdict(float)\n",
        "    for row, value in partial_results:\n",
        "        result[row] += value\n",
        "    return result\n",
        "\n",
        "# Чтение данных из матрицы\n",
        "def read_matrix(matrix: List[NamedTuple]) -> List[Tuple[str, NamedTuple]]:\n",
        "    return [('M', row) for row in matrix]\n",
        "\n",
        "# Разбиение вектора на чанки\n",
        "def read_vector(vector: List[NamedTuple]) -> List[List[NamedTuple]]:\n",
        "    return [vector[i:i + CHUNK_SIZE] for i in range(0, len(vector), CHUNK_SIZE)]\n",
        "\n",
        "# Основная функция MapReduce\n",
        "def map_reduce(matrix, vector):\n",
        "    mapped_matrix = [map_matrix(row) for _, row in read_matrix(matrix)]\n",
        "    mapped_vector = [pair for chunk in read_vector(vector) for pair in map_vector(chunk)]\n",
        "    grouped = shuffle(mapped_matrix + mapped_vector)\n",
        "    partial_results = [res for rid, vals in grouped.items() for res in reduce_partial(rid, vals)]\n",
        "    return aggregate(partial_results)\n",
        "\n",
        "from collections import namedtuple\n",
        "Row = namedtuple('Row', ['row', 'col', 'value'])\n",
        "VectorElement = namedtuple('VectorElement', ['index', 'value'])\n",
        "\n",
        "matrix = [Row(0, 0, 1.0), Row(0, 1, 2.0), Row(1, 0, 3.0), Row(1, 1, 4.0)]\n",
        "vector = [VectorElement(0, 0.5), VectorElement(1, 0.7)]\n",
        "\n",
        "result = map_reduce(matrix, vector)\n",
        "print(\"Matrix-Vector Multiplication Result:\", result)"
      ],
      "execution_count": 55,
      "outputs": [
        {
          "output_type": "stream",
          "name": "stdout",
          "text": [
            "Matrix-Vector Multiplication Result: defaultdict(<class 'float'>, {0: 1.9, 1: 4.3})\n"
          ]
        }
      ]
    },
    {
      "cell_type": "markdown",
      "metadata": {
        "id": "GIo2t7nNxvA9"
      },
      "source": [
        "## Matrix multiplication (Перемножение матриц)\n",
        "\n",
        "Если у нас есть матрица $M$ с элементами $m_{ij}$ в строке $i$ и столбце $j$, и матрица $N$ с элементами $n_{jk}$ в строке $j$ и столбце $k$, тогда их произведение $P = MN$ есть матрица $P$ с элементами $p_{ik}$ в строке $i$ и столбце $k$, где\n",
        "\n",
        "$$p_{ik} =\\sum_{j} m_{ij}n_{jk}$$\n",
        "\n",
        "Необходимым требованием является одинаковое количество столбцов в $M$ и строк в $N$, чтобы операция суммирования по  $j$ была осмысленной. Мы можем размышлять о матрице, как об отношении с тремя атрибутами: номер строки, номер столбца, само значение. Таким образом матрица $M$ предстваляется как отношение $ M(I, J, V )$, с кортежами $(i, j, m_{ij})$, и, аналогично, матрица $N$ представляется как отношение $N(J, K, W)$, с кортежами $(j, k, n_{jk})$. Так как большие матрицы как правило разреженные (большинство значений равно 0), и так как мы можем нулевыми значениями пренебречь (не хранить), такое реляционное представление достаточно эффективно для больших матриц. Однако, возможно, что координаты $i$, $j$, и $k$ неявно закодированы в смещение позиции элемента относительно начала файла, вместо явного хранения. Тогда, функция Map (или Reader) должна быть разработана таким образом, чтобы реконструировать компоненты $I$, $J$, и $K$ кортежей из смещения.\n",
        "\n",
        "Произведение $MN$ это фактически join, за которым следуют группировка по ключу и аггрегация. Таким образом join отношений $M(I, J, V )$ и $N(J, K, W)$, имеющих общим только атрибут $J$, создаст кортежи $(i, j, k, v, w)$ из каждого кортежа $(i, j, v) \\in M$ и кортежа $(j, k, w) \\in N$. Такой 5 компонентный кортеж представляет пару элементов матрицы $(m_{ij} , n_{jk})$. Что нам хотелось бы получить на самом деле, это произведение этих элементов, то есть, 4 компонентный кортеж$(i, j, k, v \\times w)$, так как он представляет произведение $m_{ij}n_{jk}$. Мы представляем отношение как результат одной MapReduce операции, в которой мы можем произвести группировку и аггрегацию, с $I$ и $K$  атрибутами, по которым идёт группировка, и суммой  $V \\times W$.\n",
        "\n",
        "\n",
        "\n"
      ]
    },
    {
      "cell_type": "code",
      "metadata": {
        "id": "1MBkGaLAYVCt"
      },
      "source": [
        "# MapReduce model\n",
        "def flatten(nested_iterable):\n",
        "  for iterable in nested_iterable:\n",
        "    for element in iterable:\n",
        "      yield element\n",
        "\n",
        "def groupbykey(iterable):\n",
        "  t = {}\n",
        "  for (k2, v2) in iterable:\n",
        "    t[k2] = t.get(k2, []) + [v2]\n",
        "  return t.items()\n",
        "\n",
        "def MapReduce(RECORDREADER, MAP, REDUCE):\n",
        "  return flatten(map(lambda x: REDUCE(*x), groupbykey(flatten(map(lambda x: MAP(*x), RECORDREADER())))))"
      ],
      "execution_count": 56,
      "outputs": []
    },
    {
      "cell_type": "markdown",
      "metadata": {
        "id": "sMspsOT0ZB35"
      },
      "source": [
        "Реализуйте перемножение матриц с использованием модельного кода MapReduce для одной машины в случае, когда одна матрица хранится в памяти, а другая генерируется RECORDREADER-ом."
      ]
    },
    {
      "cell_type": "code",
      "metadata": {
        "id": "psP1XekbsEjS",
        "colab": {
          "base_uri": "https://localhost:8080/"
        },
        "outputId": "8d7d7081-d3a7-4404-d610-cace5f4c53d2"
      },
      "source": [
        "import numpy as np\n",
        "\n",
        "I = 2\n",
        "J = 3\n",
        "K = 4 * 10\n",
        "small_mat = np.random.rand(I, J)  # Маленькая матрица в памяти\n",
        "big_mat = np.random.rand(J, K)  # Большая матрица читается через RECORDREADER\n",
        "\n",
        "def RECORDREADER():\n",
        "    for j in range(big_mat.shape[0]):\n",
        "        for k in range(big_mat.shape[1]):\n",
        "            yield ((j, k), big_mat[j, k])  # (j,k) - ключ, n_{jk} - значение\n",
        "\n",
        "def MAP(k1, v1):\n",
        "    (j, k) = k1  # Из ключа (j, k) извлекаем индексы\n",
        "    w = v1  # n_{jk}\n",
        "\n",
        "    for i in range(small_mat.shape[0]):  # Пробегаем все строки маленькой матрицы\n",
        "        v = small_mat[i, j]  # m_{ij}\n",
        "        yield ((i, k), v * w)  # (i,k) - ключ, произведение - значение\n",
        "\n",
        "def REDUCE(key, values):\n",
        "    (i, k) = key\n",
        "    yield ((i, k), sum(values))  # Суммируем все произведения\n",
        "\n",
        "result = list(MapReduce(RECORDREADER, MAP, REDUCE))\n",
        "print(result)\n"
      ],
      "execution_count": 57,
      "outputs": [
        {
          "output_type": "stream",
          "name": "stdout",
          "text": [
            "[((0, 0), 0.27163747959592943), ((1, 0), 1.269452854282537), ((0, 1), 0.30056868235250206), ((1, 1), 1.4797320574146242), ((0, 2), 0.27036318501018963), ((1, 2), 1.2425170010976587), ((0, 3), 0.27601742570253307), ((1, 3), 1.305903702309614), ((0, 4), 0.12643123498945366), ((1, 4), 0.5943545200888328), ((0, 5), 0.1359460127487214), ((1, 5), 0.6697044534102898), ((0, 6), 0.19903896382106778), ((1, 6), 0.8832964024736557), ((0, 7), 0.10786525486560991), ((1, 7), 0.45555325458145296), ((0, 8), 0.11595034750816399), ((1, 8), 0.6977407129158962), ((0, 9), 0.3370016093556201), ((1, 9), 1.6248407039545054), ((0, 10), 0.1448675486743135), ((1, 10), 0.7807128873243094), ((0, 11), 0.15079110450375924), ((1, 11), 0.7589832191260573), ((0, 12), 0.1256147749414307), ((1, 12), 0.656424475739568), ((0, 13), 0.2980978076625941), ((1, 13), 1.5348434092122278), ((0, 14), 0.13786603172561934), ((1, 14), 0.7406392107874649), ((0, 15), 0.21146091464326183), ((1, 15), 1.0332546481491758), ((0, 16), 0.02575178103734287), ((1, 16), 0.11354178945786406), ((0, 17), 0.14756109048637472), ((1, 17), 0.7078876790539345), ((0, 18), 0.34627183944782), ((1, 18), 1.570424346305875), ((0, 19), 0.18392193304211613), ((1, 19), 0.9320123282806156), ((0, 20), 0.18589410342361207), ((1, 20), 0.9276581793679525), ((0, 21), 0.24676601688139962), ((1, 21), 1.2242877074574046), ((0, 22), 0.275007571909021), ((1, 22), 1.3371898194174672), ((0, 23), 0.30417093013029906), ((1, 23), 1.5215250199324521), ((0, 24), 0.20081678148833942), ((1, 24), 1.0971274404364983), ((0, 25), 0.23623901996259689), ((1, 25), 1.2107152674909052), ((0, 26), 0.2639543727188745), ((1, 26), 1.396671262547979), ((0, 27), 0.17980457670053243), ((1, 27), 0.7680041050215543), ((0, 28), 0.08532411237396732), ((1, 28), 0.4128478355346611), ((0, 29), 0.11718566714357392), ((1, 29), 0.46881369790253), ((0, 30), 0.21059153028454927), ((1, 30), 1.070323513973367), ((0, 31), 0.2784169176080259), ((1, 31), 1.4511696833589929), ((0, 32), 0.17637572757332673), ((1, 32), 0.7938018168557145), ((0, 33), 0.2194992519365528), ((1, 33), 1.2250583952873668), ((0, 34), 0.30131078024637914), ((1, 34), 1.285732004963132), ((0, 35), 0.07010180485177829), ((1, 35), 0.5924561812744616), ((0, 36), 0.21651408264756025), ((1, 36), 1.0236308676435761), ((0, 37), 0.07880939192368096), ((1, 37), 0.37873863721951934), ((0, 38), 0.21724057164290003), ((1, 38), 1.0853729875416118), ((0, 39), 0.10043379722990917), ((1, 39), 0.49558637517359494)]\n"
          ]
        }
      ]
    },
    {
      "cell_type": "markdown",
      "metadata": {
        "id": "rnt306LHhHrm"
      },
      "source": [
        "Проверьте своё решение"
      ]
    },
    {
      "cell_type": "code",
      "metadata": {
        "id": "Ewy_ZNYqW5a2",
        "colab": {
          "base_uri": "https://localhost:8080/"
        },
        "outputId": "86bdaeb4-ce0e-4902-c5e7-0d8626b9794e"
      },
      "source": [
        "# CHECK THE SOLUTION\n",
        "reference_solution = np.matmul(small_mat, big_mat)\n",
        "solution = MapReduce(RECORDREADER, MAP, REDUCE)\n",
        "\n",
        "def asmatrix(reduce_output):\n",
        "  reduce_output = list(reduce_output)\n",
        "  I = max(i for ((i,k), vw) in reduce_output)+1\n",
        "  K = max(k for ((i,k), vw) in reduce_output)+1\n",
        "  mat = np.empty(shape=(I,K))\n",
        "  for ((i,k), vw) in reduce_output:\n",
        "    mat[i,k] = vw\n",
        "  return mat\n",
        "\n",
        "np.allclose(reference_solution, asmatrix(solution)) # should return true"
      ],
      "execution_count": 58,
      "outputs": [
        {
          "output_type": "execute_result",
          "data": {
            "text/plain": [
              "True"
            ]
          },
          "metadata": {},
          "execution_count": 58
        }
      ]
    },
    {
      "cell_type": "code",
      "metadata": {
        "id": "TK7v4CEcfxqf",
        "colab": {
          "base_uri": "https://localhost:8080/"
        },
        "outputId": "237decb7-bbec-4efa-f0dc-1b2744ed4359"
      },
      "source": [
        "reduce_output = list(MapReduce(RECORDREADER, MAP, REDUCE))\n",
        "max(i for ((i,k), vw) in reduce_output)"
      ],
      "execution_count": 59,
      "outputs": [
        {
          "output_type": "execute_result",
          "data": {
            "text/plain": [
              "1"
            ]
          },
          "metadata": {},
          "execution_count": 59
        }
      ]
    },
    {
      "cell_type": "markdown",
      "metadata": {
        "id": "i4yyg3kOZqJJ"
      },
      "source": [
        "Реализуйте перемножение матриц  с использованием модельного кода MapReduce для одной машины в случае, когда обе матрицы генерируются в RECORDREADER. Например, сначала одна, а потом другая."
      ]
    },
    {
      "cell_type": "code",
      "metadata": {
        "id": "3B7rIAJCaHZq",
        "colab": {
          "base_uri": "https://localhost:8080/"
        },
        "outputId": "318dad8d-3c0e-4f7a-cbee-ea3e603428c4"
      },
      "source": [
        "import numpy as np  # Импорт библиотеки NumPy для работы с матрицами\n",
        "\n",
        "# Размерности матриц\n",
        "I = 2\n",
        "J = 3\n",
        "K = 40\n",
        "\n",
        "# Генерация случайных матриц\n",
        "np.random.seed(42)  # Фиксируем seed для воспроизводимости результатов\n",
        "small_mat = np.random.rand(I, J)  # Матрица M размером (I x J)\n",
        "big_mat = np.random.rand(J, K)  # Матрица N размером (J x K)\n",
        "\n",
        "# Эталонное решение с использованием стандартного перемножения матриц\n",
        "reference_solution = np.matmul(small_mat, big_mat)\n",
        "\n",
        "# Функция, читающая данные обеих матриц\n",
        "def RECORDREADER():\n",
        "    # Чтение первой матрицы (M)\n",
        "    for i in range(small_mat.shape[0]):\n",
        "        for j in range(small_mat.shape[1]):\n",
        "            yield ((0, i, j), small_mat[i, j])  # Формат (0, i, j, M[i, j])\n",
        "\n",
        "    # Чтение второй матрицы (N)\n",
        "    for j in range(big_mat.shape[0]):\n",
        "        for k in range(big_mat.shape[1]):\n",
        "            yield ((1, j, k), big_mat[j, k])  # Формат (1, j, k, N[j, k])\n",
        "\n",
        "# Функция MAP для соединения матриц по индексу j\n",
        "def MAP_JOIN(k1, v1):\n",
        "    mat_type, i_or_j, j_or_k = k1  # Извлекаем номер матрицы и индексы\n",
        "    value = v1\n",
        "\n",
        "    if mat_type == 0:  # Если это элемент первой матрицы (M)\n",
        "        yield (j_or_k, (0, i_or_j, value))  # Группируем по j\n",
        "    else:  # Если это элемент второй матрицы (N)\n",
        "        yield (i_or_j, (1, j_or_k, value))  # Группируем по j\n",
        "\n",
        "# Функция REDUCE для соединения матриц по j\n",
        "def REDUCE_JOIN(key, values):\n",
        "    first_matrix = [v for v in values if v[0] == 0]  # Элементы первой матрицы (M)\n",
        "    second_matrix = [v for v in values if v[0] == 1]  # Элементы второй матрицы (N)\n",
        "\n",
        "    for m in first_matrix:\n",
        "        for n in second_matrix:\n",
        "            yield ((m[1], n[1]), m[2] * n[2])  # Умножение значений mij * njk\n",
        "\n",
        "# Функция MAP для финальной агрегации (суммирование произведений)\n",
        "def MAP_MUL(k1, v1):\n",
        "    yield (k1, v1)  # Оставляем ключ (i, k) без изменений\n",
        "\n",
        "# Функция REDUCE для суммирования произведений элементов\n",
        "def REDUCE_MUL(key, values):\n",
        "    yield (key, sum(values))  # Складываем все элементы для ключа (i, k)\n",
        "\n",
        "# Генерация объединённых значений через MapReduce\n",
        "joined = MapReduce(RECORDREADER, MAP_JOIN, REDUCE_JOIN)\n",
        "\n",
        "# Выполнение финального этапа MapReduce для получения результата\n",
        "solution = MapReduce(lambda: joined, MAP_MUL, REDUCE_MUL)\n",
        "\n",
        "# Проверка, совпадает ли результат с эталонным значением\n",
        "print(np.allclose(reference_solution, asmatrix(solution)))  # Должно вывести True\n"
      ],
      "execution_count": 60,
      "outputs": [
        {
          "output_type": "stream",
          "name": "stdout",
          "text": [
            "True\n"
          ]
        }
      ]
    },
    {
      "cell_type": "markdown",
      "metadata": {
        "id": "mXyzQi1DaIwo"
      },
      "source": [
        "Реализуйте перемножение матриц с использованием модельного кода MapReduce Distributed, когда каждая матрица генерируется в своём RECORDREADER."
      ]
    },
    {
      "cell_type": "code",
      "metadata": {
        "id": "TDM_s78Rb5eR",
        "colab": {
          "base_uri": "https://localhost:8080/"
        },
        "outputId": "3509d4c0-0035-45c9-d637-8b87234e9efa"
      },
      "source": [
        "import numpy as np\n",
        "\n",
        "NUM_MAPPERS = 2\n",
        "reducers = 2\n",
        "ROWS_A = 2\n",
        "COLS_A = 3\n",
        "COLS_B = 40  # K = 4 * 10\n",
        "\n",
        "# Генерация данных\n",
        "A = np.random.rand(ROWS_A, COLS_A)\n",
        "B = np.random.rand(COLS_A, COLS_B)\n",
        "\n",
        "def generate_chunks():\n",
        "    \"\"\"Создаёт части матриц для обработки в MAP.\"\"\"\n",
        "    chunk_size = int(np.ceil(ROWS_A / NUM_MAPPERS))\n",
        "    for i_start in range(0, ROWS_A, chunk_size):\n",
        "        yield process_chunk(range(i_start, min(i_start + chunk_size, ROWS_A)))\n",
        "\n",
        "def process_chunk(rows):\n",
        "    \"\"\"Генерирует пары (координаты, значение) из двух матриц.\"\"\"\n",
        "    for i in rows:\n",
        "        for j in range(COLS_A):\n",
        "            for k in range(COLS_B):\n",
        "                yield ((i, j), A[i, j]), ((j, k), B[j, k])\n",
        "\n",
        "def map_function(pair_A, pair_B):\n",
        "    \"\"\"Умножает элементы и группирует по (i, k).\"\"\"\n",
        "    (i, j), val_A = pair_A\n",
        "    (j, k), val_B = pair_B\n",
        "    yield (i, k), val_A * val_B\n",
        "\n",
        "def reduce_function(index, values):\n",
        "    \"\"\"Суммирует элементы с одинаковыми индексами.\"\"\"\n",
        "    yield index, sum(values)\n",
        "\n",
        "# Запуск MapReduce\n",
        "intermediate_results = MapReduceDistributed(generate_chunks, map_function, reduce_function)\n",
        "\n",
        "# Объединение результатов\n",
        "final_result = {}\n",
        "for partition_id, partition in intermediate_results:\n",
        "    for index, value in partition:\n",
        "        final_result[index] = final_result.get(index, 0) + value\n",
        "\n",
        "\n",
        "print(\"Matrix Multiplication Result:\\n\", final_result)\n"
      ],
      "execution_count": 61,
      "outputs": [
        {
          "output_type": "stream",
          "name": "stdout",
          "text": [
            "240 key-value pairs were sent over a network.\n",
            "Matrix Multiplication Result:\n",
            " {(0, 1): 0.47268518561234973, (0, 2): 1.331585175830705, (0, 4): 1.021351852495352, (0, 5): 0.9131445349756118, (0, 8): 1.0854341486196752, (0, 9): 0.3075827214969634, (0, 11): 1.003832121786526, (0, 12): 0.45686569948009204, (0, 15): 0.8918100486065025, (0, 16): 0.5041984539756577, (0, 18): 0.8286369376706371, (0, 19): 0.9717206052489281, (0, 22): 1.099447290027778, (0, 23): 0.5036027285086736, (0, 25): 1.395355376421955, (0, 26): 0.9624208429352515, (0, 29): 0.5962891831345462, (0, 32): 0.5959378597563265, (0, 33): 0.6976597508277623, (0, 36): 0.04441053975372091, (0, 39): 0.6117816957363831, (1, 0): 0.4197798780682388, (1, 1): 0.31678983211806466, (1, 3): 0.2905523671212979, (1, 4): 0.6256497395186525, (1, 7): 0.7423569849982339, (1, 10): 0.6607515214848413, (1, 11): 0.6015564366326857, (1, 14): 0.8685641215901408, (1, 17): 0.38345055566397046, (1, 18): 0.6792902693535021, (1, 21): 0.6236422180184992, (1, 24): 0.7086750406252602, (1, 25): 0.7688596237247428, (1, 27): 0.736800834888107, (1, 28): 0.664718513453437, (1, 31): 0.7309270183375837, (1, 32): 0.3026784538912303, (1, 34): 0.30129593506476826, (1, 35): 0.5869183504406636, (1, 38): 0.640511090327881, (1, 39): 0.3828100707402756, (0, 0): 0.5433583169304825, (0, 3): 0.4161166755448973, (0, 6): 1.108242866343397, (0, 7): 0.9192044873893017, (0, 10): 1.2033199367606149, (0, 13): 0.5999387683377239, (0, 14): 1.2088052633893558, (0, 17): 0.44049434373748003, (0, 20): 0.8975542155036819, (0, 21): 0.9487334190041795, (0, 24): 1.1766210234848822, (0, 27): 1.2681857559657606, (0, 28): 0.8600064973225919, (0, 30): 0.6637156920657984, (0, 31): 1.2142580651603863, (0, 34): 0.3527192821259462, (0, 35): 0.7303914708215375, (0, 37): 0.6277017935750313, (0, 38): 1.0286166545562356, (1, 2): 0.9090713770128865, (1, 5): 0.6862941972949815, (1, 6): 0.7210127836478518, (1, 8): 0.7799931671430935, (1, 9): 0.30218800431997034, (1, 12): 0.31205270496400545, (1, 13): 0.3485165170474275, (1, 15): 0.5757989578219744, (1, 16): 0.4455051197792513, (1, 19): 0.6085029432376949, (1, 20): 0.5779839282381534, (1, 22): 0.6882980684298883, (1, 23): 0.4298552533380888, (1, 26): 0.635016807180898, (1, 29): 0.5699444321567285, (1, 30): 0.5942377211512558, (1, 33): 0.636654250355516, (1, 36): 0.23696607758923507, (1, 37): 0.5583800893667771}\n"
          ]
        }
      ]
    },
    {
      "cell_type": "markdown",
      "metadata": {
        "id": "ZuSA2P9Db6UM"
      },
      "source": [
        "Обобщите предыдущее решение на случай, когда каждая матрица генерируется несколькими RECORDREADER-ами, и проверьте его работоспособность. Будет ли работать решение, если RECORDREADER-ы будут генерировать случайное подмножество элементов матрицы?"
      ]
    },
    {
      "cell_type": "code",
      "metadata": {
        "id": "ehN0FqRDcwU5",
        "colab": {
          "base_uri": "https://localhost:8080/"
        },
        "outputId": "78dabeb3-f846-450c-d046-e9c91d90674a"
      },
      "source": [
        "import numpy as np\n",
        "\n",
        "# Определение размеров матриц\n",
        "rows_a = 2\n",
        "cols_a = 3\n",
        "cols_b = 4 * 10\n",
        "\n",
        "# Генерация случайных матриц\n",
        "matrix_a = np.random.rand(rows_a, cols_a)\n",
        "matrix_b = np.random.rand(cols_a, cols_b)\n",
        "\n",
        "# Получение эталонного результата через умножение матриц\n",
        "expected_result = np.matmul(matrix_a, matrix_b)\n",
        "\n",
        "# Функция для \"разглаживания\" вложенных итерируемых объектов\n",
        "def flatten_iterables(nested_iterable):\n",
        "    for iterable in nested_iterable:\n",
        "        for element in iterable:\n",
        "            yield element\n",
        "\n",
        "# Функция для группировки элементов по ключу\n",
        "def group_elements_by_key(iterable):\n",
        "    grouped = {}\n",
        "    for (key, value) in iterable:\n",
        "        grouped[key] = grouped.get(key, []) + [value]\n",
        "    return grouped.items()\n",
        "\n",
        "# Функция для распределенной группировки элементов по ключу\n",
        "def distributed_grouping(map_partitions, partition_func):\n",
        "    global num_reducers\n",
        "    partitions = [dict() for _ in range(num_reducers)]\n",
        "    for map_partition in map_partitions:\n",
        "        for (key, value) in map_partition:\n",
        "            partition = partitions[partition_func(key)]\n",
        "            partition[key] = partition.get(key, []) + [value]\n",
        "    return [(partition_id, sorted(partition.items(), key=lambda x: x[0])) for (partition_id, partition) in enumerate(partitions)]\n",
        "\n",
        "# Функция для определения разделителя (по ключу)\n",
        "def partition_function(obj):\n",
        "    global num_reducers\n",
        "    return hash(obj) % num_reducers\n",
        "\n",
        "# Функция для выполнения MapReduce на распределенных данных\n",
        "def distributed_map_reduce(input_format, map_func, reduce_func, partition_func=partition_function, combiner=None):\n",
        "    map_partitions = map(lambda record_reader: flatten_iterables(map(lambda kv: map_func(*kv), record_reader)), input_format())\n",
        "\n",
        "    if combiner is not None:\n",
        "        map_partitions = map(lambda map_partition: flatten_iterables(map(lambda kv: combiner(*kv), group_elements_by_key(map_partition))), map_partitions)\n",
        "\n",
        "    reduce_partitions = distributed_grouping(map_partitions, partition_func)\n",
        "\n",
        "    reduce_outputs = map(lambda reduce_partition: (reduce_partition[0], flatten_iterables(map(lambda reduce_input_group: reduce_func(*reduce_input_group), reduce_partition[1]))), reduce_partitions)\n",
        "\n",
        "    return reduce_outputs\n",
        "\n",
        "# Функция для преобразования результата REDUCE в матрицу\n",
        "def convert_to_matrix(reduce_output):\n",
        "    reduce_output = list(reduce_output)\n",
        "    rows = max(i for ((i, k), value) in reduce_output) + 1\n",
        "    cols = max(k for ((i, k), value) in reduce_output) + 1\n",
        "    result_matrix = np.empty(shape=(rows, cols))\n",
        "    for ((i, k), value) in reduce_output:\n",
        "        result_matrix[i, k] = value\n",
        "    return result_matrix\n",
        "\n",
        "# Генератор для вводных данных\n",
        "def input_data_format():\n",
        "    data_a = []\n",
        "\n",
        "    for i in range(matrix_a.shape[0]):\n",
        "        for j in range(matrix_a.shape[1]):\n",
        "            data_a.append(((0, i, j), matrix_a[i, j]))  # первая матрица\n",
        "\n",
        "    global num_maps\n",
        "    split_size = int(np.ceil(len(data_a) / num_maps))\n",
        "\n",
        "    for i in range(0, len(data_a), split_size):\n",
        "        yield data_a[i:i + split_size]\n",
        "\n",
        "    data_b = []\n",
        "\n",
        "    for j in range(matrix_b.shape[0]):\n",
        "        for k in range(matrix_b.shape[1]):\n",
        "            data_b.append(((1, j, k), matrix_b[j, k]))  # вторая матрица\n",
        "\n",
        "    split_size = int(np.ceil(len(data_b) / num_maps))\n",
        "\n",
        "    for i in range(0, len(data_b), split_size):\n",
        "        yield data_b[i:i + split_size]\n",
        "\n",
        "# MAP функция для соединения матриц\n",
        "def map_join_func(key1, value1):\n",
        "    (matrix_id, i, j) = key1\n",
        "    weight = value1\n",
        "\n",
        "    if matrix_id == 0:\n",
        "        yield (j, (matrix_id, i, weight))\n",
        "    else:\n",
        "        yield (i, (matrix_id, j, weight))\n",
        "\n",
        "# REDUCE функция для соединения матриц\n",
        "def reduce_join_func(key, values):\n",
        "    from_first_matrix = [v for v in values if v[0] == 0]\n",
        "    from_second_matrix = [v for v in values if v[0] == 1]\n",
        "\n",
        "    for f in from_first_matrix:\n",
        "        for s in from_second_matrix:\n",
        "            yield ((f[1], s[1]), f[2] * s[2])\n",
        "\n",
        "# Генератор для получения соединенных данных\n",
        "def generate_joined_data():\n",
        "    for j in joined_data:\n",
        "        yield j[1]\n",
        "\n",
        "# MAP функция для передачи значений\n",
        "def map_multiplication(key1, value1):\n",
        "    yield (key1, value1)\n",
        "\n",
        "# REDUCE функция для суммирования значений\n",
        "def reduce_multiplication(key, values):\n",
        "    total_value = 0\n",
        "\n",
        "    for v in values:\n",
        "        total_value += v\n",
        "    yield (key, total_value)\n",
        "\n",
        "num_maps = 3\n",
        "num_reducers = 2\n",
        "\n",
        "# Выполнение MapReduce для соединения матриц\n",
        "partitioned_result = distributed_map_reduce(input_data_format, map_join_func, reduce_join_func, combiner=None)\n",
        "joined_data = [(partition_id, list(partition)) for (partition_id, partition) in partitioned_result]\n",
        "\n",
        "# Выполнение MapReduce для умножения значений\n",
        "multiplication_output = distributed_map_reduce(generate_joined_data, map_multiplication, reduce_multiplication, combiner=None)\n",
        "pre_result = [(partition_id, list(partition)) for (partition_id, partition) in multiplication_output]\n",
        "\n",
        "# Формирование окончательного результата\n",
        "final_solution = []\n",
        "\n",
        "for p in pre_result:\n",
        "    for v in p[1]:\n",
        "        final_solution.append(v)\n",
        "\n",
        "# Проверка на соответствие с эталонным решением\n",
        "is_close = np.allclose(expected_result, convert_to_matrix(final_solution))\n",
        "\n",
        "# Вывод части матрицы\n",
        "result_matrix = convert_to_matrix(final_solution)\n",
        "print(\"Результат умножения матриц (части первой и последней строки):\")\n",
        "print(result_matrix[0])  # Первая строка\n",
        "print(result_matrix[-1])  # Последняя строка\n",
        "print(\"Сравнение с эталонным решением:\", is_close)\n",
        "\n"
      ],
      "execution_count": 62,
      "outputs": [
        {
          "output_type": "stream",
          "name": "stdout",
          "text": [
            "Результат умножения матриц (части первой и последней строки):\n",
            "[0.76297669 0.12634115 0.6231596  1.09131914 0.31992627 0.71671965\n",
            " 1.04442238 1.04414646 0.86452637 0.70794068 0.62148223 0.4417982\n",
            " 0.91327461 0.85955059 0.85767505 1.10999319 0.71212365 0.75631386\n",
            " 0.81355796 0.70741363 0.8064103  0.8541745  0.99737019 0.62318393\n",
            " 0.60657404 0.26118678 0.95438471 0.32988915 0.73488937 0.80918288\n",
            " 0.41005144 0.59314749 0.1558566  0.27505499 0.72071451 0.45912213\n",
            " 0.13479107 0.5114723  1.06968427 0.41064228]\n",
            "[1.23057179 0.20210192 0.73299819 1.37824387 0.70467077 1.18731333\n",
            " 1.44562747 1.7546595  1.31348039 0.72501421 1.20532402 0.85263036\n",
            " 1.21179633 1.12066193 0.96498958 1.52308862 1.11644083 1.37792744\n",
            " 0.84578768 0.9318483  1.19173359 1.07791162 1.2798951  1.30491628\n",
            " 1.14612965 0.69415626 1.87117636 0.97953737 1.44722403 1.50496154\n",
            " 0.6886336  0.60916879 0.42037259 0.74293971 0.53723468 0.78460963\n",
            " 0.16336247 0.55093071 1.81763528 0.79510005]\n",
            "Сравнение с эталонным решением: True\n"
          ]
        }
      ]
    }
  ]
}